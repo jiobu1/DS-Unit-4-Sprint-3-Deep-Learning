{
 "cells": [
  {
   "cell_type": "markdown",
   "metadata": {
    "colab_type": "text",
    "id": "SFAQW9nVoeJi"
   },
   "source": [
    "<img align=\"left\" src=\"https://lever-client-logos.s3.amazonaws.com/864372b1-534c-480e-acd5-9711f850815c-1524247202159.png\" width=200>\n",
    "<br></br>\n",
    "<br></br>\n",
    "\n",
    "## *Data Science Unit 4 Sprint 3 Assignment 2*\n",
    "# Convolutional Neural Networks (CNNs)"
   ]
  },
  {
   "cell_type": "markdown",
   "metadata": {
    "colab_type": "text",
    "id": "0lfZdD_cp1t5"
   },
   "source": [
    "# Assignment\n",
    "\n",
    "- <a href=\"#p1\">Part 1:</a> Pre-Trained Model\n",
    "- <a href=\"#p2\">Part 2:</a> Custom CNN Model\n",
    "- <a href=\"#p3\">Part 3:</a> CNN with Data Augmentation\n",
    "\n",
    "\n",
    "You will apply three different CNN models to a binary image classification model using Keras. Classify images of Mountains (`./data/train/mountain/*`) and images of forests (`./data/train/forest/*`). Treat mountains as the positive class (1) and the forest images as the negative (zero). \n",
    "\n",
    "|Mountain (+)|Forest (-)|\n",
    "|---|---|\n",
    "|![](./data/train/mountain/art1131.jpg)|![](./data/validation/forest/cdmc317.jpg)|\n",
    "\n",
    "The problem is relatively difficult given that the sample is tiny: there are about 350 observations per class. This sample size might be something that you can expect with prototyping an image classification problem/solution at work. Get accustomed to evaluating several different possible models."
   ]
  },
  {
   "cell_type": "markdown",
   "metadata": {
    "colab_type": "text",
    "id": "tLQhXQ0toeJr"
   },
   "source": [
    "# Pre - Trained Model\n",
    "<a id=\"p1\"></a>\n",
    "\n",
    "Load a pretrained network from Keras, [ResNet50](https://tfhub.dev/google/imagenet/resnet_v1_50/classification/1) - a 50 layer deep network trained to recognize [1000 objects](https://storage.googleapis.com/download.tensorflow.org/data/ImageNetLabels.txt). Starting usage:\n",
    "\n",
    "```python\n",
    "import numpy as np\n",
    "\n",
    "from tensorflow.keras.applications.resnet50 import ResNet50\n",
    "from tensorflow.keras.preprocessing import image\n",
    "from tensorflow.keras.applications.resnet50 import preprocess_input, decode_predictions\n",
    "\n",
    "from tensorflow.keras.layers import Dense, GlobalAveragePooling2D\n",
    "from tensorflow.keras.models import Model # This is the functional API\n",
    "\n",
    "resnet = ResNet50(weights='imagenet', include_top=False)\n",
    "\n",
    "```\n",
    "\n",
    "The `include_top` parameter in `ResNet50` will remove the full connected layers from the ResNet model. The next step is to turn off the training of the ResNet layers. We want to use the learned parameters without updating them in future training passes. \n",
    "\n",
    "```python\n",
    "for layer in resnet.layers:\n",
    "    layer.trainable = False\n",
    "```\n",
    "\n",
    "Using the Keras functional API, we will need to additional additional full connected layers to our model. We we removed the top layers, we removed all preivous fully connected layers. In other words, we kept only the feature processing portions of our network. You can expert with additional layers beyond what's listed here. The `GlobalAveragePooling2D` layer functions as a really fancy flatten function by taking the average of each of the last convolutional layer outputs (which is two dimensional still). \n",
    "\n",
    "```python\n",
    "x = resnet.output\n",
    "x = GlobalAveragePooling2D()(x) # This layer is a really fancy flatten\n",
    "x = Dense(1024, activation='relu')(x)\n",
    "predictions = Dense(1, activation='sigmoid')(x)\n",
    "model = Model(resnet.input, predictions)\n",
    "```\n",
    "\n",
    "Your assignment is to apply the transfer learning above to classify images of Mountains (`./data/train/mountain/*`) and images of forests (`./data/train/forest/*`). Treat mountains as the positive class (1) and the forest images as the negative (zero). \n",
    "\n",
    "Steps to complete assignment: \n",
    "1. Load in Image Data into numpy arrays (`X`) \n",
    "2. Create a `y` for the labels\n",
    "3. Train your model with pre-trained layers from resnet\n",
    "4. Report your model's accuracy"
   ]
  },
  {
   "cell_type": "markdown",
   "metadata": {
    "colab_type": "text",
    "id": "Ay3qHyFjoeJs"
   },
   "source": [
    "## Load in Data\n",
    "\n",
    "This surprisingly more difficult than it seems, because you are working with directories of images instead of a single file. This boiler plate will help you download a zipped version of the directory of images. The directory is organized into \"train\" and \"validation\" which you can use inside an `ImageGenerator` class to stream batches of images thru your model.  \n"
   ]
  },
  {
   "cell_type": "code",
   "execution_count": 1,
   "metadata": {
    "colab": {},
    "colab_type": "code",
    "id": "Er7TuOzhqgTN"
   },
   "outputs": [],
   "source": [
    "import numpy as np\n",
    "import matplotlib.pyplot as plt\n",
    "\n",
    "from tensorflow.keras import datasets\n",
    "from tensorflow.keras.models import Sequential, Model\n",
    "from tensorflow.keras.layers import Dense, Conv2D, MaxPooling2D, Flatten, Dropout\n",
    "from tensorflow.keras.applications.resnet50 import ResNet50\n",
    "from tensorflow.keras.preprocessing import image\n",
    "from tensorflow.keras.applications.resnet50 import preprocess_input, decode_predictions\n",
    "from tensorflow.keras.applications.resnet50 import ResNet50\n",
    "from tensorflow.keras.layers import Dense, GlobalAveragePooling2D\n",
    "from tensorflow.keras.models import Model # This is the functional API"
   ]
  },
  {
   "cell_type": "markdown",
   "metadata": {
    "colab_type": "text",
    "id": "k5IdoFP7oeJu"
   },
   "source": [
    "### Download & Summarize the Data\n",
    "\n",
    "This step is completed for you. Just run the cells and review the results. "
   ]
  },
  {
   "cell_type": "code",
   "execution_count": 2,
   "metadata": {
    "colab": {
     "base_uri": "https://localhost:8080/",
     "height": 72
    },
    "colab_type": "code",
    "id": "PUz8FD_loeJw",
    "outputId": "d02ba8c1-ccb7-4547-f670-a1e326596cdc"
   },
   "outputs": [
    {
     "name": "stdout",
     "output_type": "stream",
     "text": [
      "Downloading data from https://github.com/LambdaSchool/DS-Unit-4-Sprint-3-Deep-Learning/blob/main/module2-convolutional-neural-networks/data.zip?raw=true\n",
      "42172416/42170838 [==============================] - 0s 0us/step\n"
     ]
    }
   ],
   "source": [
    "import tensorflow as tf\n",
    "import os\n",
    "\n",
    "_URL = 'https://github.com/LambdaSchool/DS-Unit-4-Sprint-3-Deep-Learning/blob/main/module2-convolutional-neural-networks/data.zip?raw=true'\n",
    "\n",
    "path_to_zip = tf.keras.utils.get_file('./data.zip', origin=_URL, extract=True)\n",
    "PATH = os.path.join(os.path.dirname(path_to_zip), 'data')"
   ]
  },
  {
   "cell_type": "code",
   "execution_count": 3,
   "metadata": {
    "colab": {},
    "colab_type": "code",
    "id": "4p2pWMMRoeJ_"
   },
   "outputs": [],
   "source": [
    "train_dir = os.path.join(PATH, 'train')\n",
    "validation_dir = os.path.join(PATH, 'validation')"
   ]
  },
  {
   "cell_type": "code",
   "execution_count": 4,
   "metadata": {
    "colab": {},
    "colab_type": "code",
    "id": "RTdRtK5ioeKI"
   },
   "outputs": [],
   "source": [
    "train_mountain_dir = os.path.join(train_dir, 'mountain')  # directory with our training cat pictures\n",
    "train_forest_dir = os.path.join(train_dir, 'forest')  # directory with our training dog pictures\n",
    "validation_mountain_dir = os.path.join(validation_dir, 'mountain')  # directory with our validation cat pictures\n",
    "validation_forest_dir = os.path.join(validation_dir, 'forest')  # directory with our validation dog pictures"
   ]
  },
  {
   "cell_type": "code",
   "execution_count": 5,
   "metadata": {
    "colab": {},
    "colab_type": "code",
    "id": "Yx4Emi6loeKP"
   },
   "outputs": [],
   "source": [
    "num_mountain_tr = len(os.listdir(train_mountain_dir))\n",
    "num_forest_tr = len(os.listdir(train_forest_dir))\n",
    "\n",
    "num_mountain_val = len(os.listdir(validation_mountain_dir))\n",
    "num_forest_val = len(os.listdir(validation_forest_dir))\n",
    "\n",
    "total_train = num_mountain_tr + num_forest_tr\n",
    "total_val = num_mountain_val + num_forest_val"
   ]
  },
  {
   "cell_type": "code",
   "execution_count": 6,
   "metadata": {
    "colab": {
     "base_uri": "https://localhost:8080/",
     "height": 139
    },
    "colab_type": "code",
    "id": "4n5I_OL0oeKV",
    "outputId": "039fc70c-9a19-41e6-d56f-ca02b56049ff"
   },
   "outputs": [
    {
     "name": "stdout",
     "output_type": "stream",
     "text": [
      "total training mountain images: 254\n",
      "total training forest images: 270\n",
      "total validation mountain images: 125\n",
      "total validation forest images: 62\n",
      "--\n",
      "Total training images: 524\n",
      "Total validation images: 187\n"
     ]
    }
   ],
   "source": [
    "print('total training mountain images:', num_mountain_tr)\n",
    "print('total training forest images:', num_forest_tr)\n",
    "\n",
    "print('total validation mountain images:', num_mountain_val)\n",
    "print('total validation forest images:', num_forest_val)\n",
    "print(\"--\")\n",
    "print(\"Total training images:\", total_train)\n",
    "print(\"Total validation images:\", total_val)"
   ]
  },
  {
   "cell_type": "markdown",
   "metadata": {
    "colab_type": "text",
    "id": "9olgil7joeKi"
   },
   "source": [
    "### Keras `ImageGenerator` to Process the Data\n",
    "\n",
    "This step is completed for you, but please review the code. The `ImageGenerator` class reads in batches of data from a directory and pass them to the model one batch at a time. Just like large text files, this method is advantageous, because it stifles the need to load a bunch of images into memory. \n",
    "\n",
    "Check out the documentation for this class method: [Keras `ImageGenerator` Class](https://keras.io/preprocessing/image/#imagedatagenerator-class). You'll expand it's use in the third assignment objective."
   ]
  },
  {
   "cell_type": "code",
   "execution_count": 7,
   "metadata": {
    "colab": {},
    "colab_type": "code",
    "id": "w2666m3WoeKj"
   },
   "outputs": [],
   "source": [
    "batch_size = 16\n",
    "epochs = 50\n",
    "IMG_HEIGHT = 224\n",
    "IMG_WIDTH = 224"
   ]
  },
  {
   "cell_type": "code",
   "execution_count": 8,
   "metadata": {
    "colab": {},
    "colab_type": "code",
    "id": "7fFc5kXboeKs"
   },
   "outputs": [],
   "source": [
    "from tensorflow.keras.preprocessing.image import ImageDataGenerator\n",
    "\n",
    "train_image_generator = ImageDataGenerator(rescale=1./255) # Generator for our training data\n",
    "validation_image_generator = ImageDataGenerator(rescale=1./255) # Generator for our validation data"
   ]
  },
  {
   "cell_type": "code",
   "execution_count": 9,
   "metadata": {
    "colab": {
     "base_uri": "https://localhost:8080/",
     "height": 34
    },
    "colab_type": "code",
    "id": "0t8JePdsoeKx",
    "outputId": "b1a72570-bead-4388-dc44-ab8eaf546a69"
   },
   "outputs": [
    {
     "name": "stdout",
     "output_type": "stream",
     "text": [
      "Found 533 images belonging to 2 classes.\n"
     ]
    }
   ],
   "source": [
    "train_data_gen = train_image_generator.flow_from_directory(batch_size=batch_size,\n",
    "                                                           directory=train_dir,\n",
    "                                                           shuffle=True,\n",
    "                                                           target_size=(IMG_HEIGHT, IMG_WIDTH),\n",
    "                                                           class_mode='binary')"
   ]
  },
  {
   "cell_type": "code",
   "execution_count": 10,
   "metadata": {
    "colab": {
     "base_uri": "https://localhost:8080/",
     "height": 34
    },
    "colab_type": "code",
    "id": "PLh_hbGSoeK6",
    "outputId": "ed55d296-c10c-480e-b4b6-a38c2a948a0c"
   },
   "outputs": [
    {
     "name": "stdout",
     "output_type": "stream",
     "text": [
      "Found 195 images belonging to 2 classes.\n"
     ]
    }
   ],
   "source": [
    "val_data_gen = validation_image_generator.flow_from_directory(batch_size=batch_size,\n",
    "                                                              directory=validation_dir,\n",
    "                                                              target_size=(IMG_HEIGHT, IMG_WIDTH),\n",
    "                                                              class_mode='binary')"
   ]
  },
  {
   "cell_type": "markdown",
   "metadata": {
    "colab_type": "text",
    "id": "f8vtRM1JoeLD"
   },
   "source": [
    "## Instatiate Model"
   ]
  },
  {
   "cell_type": "code",
   "execution_count": 11,
   "metadata": {
    "colab": {
     "base_uri": "https://localhost:8080/",
     "height": 72
    },
    "colab_type": "code",
    "id": "0UW0nUEuoeLE",
    "outputId": "c9cdc376-6107-4338-c373-072afbf308df"
   },
   "outputs": [
    {
     "name": "stdout",
     "output_type": "stream",
     "text": [
      "Downloading data from https://storage.googleapis.com/tensorflow/keras-applications/resnet/resnet50_weights_tf_dim_ordering_tf_kernels_notop.h5\n",
      "94773248/94765736 [==============================] - 1s 0us/step\n"
     ]
    }
   ],
   "source": [
    "base_model = tf.keras.applications.resnet50.ResNet50(weights='imagenet', include_top=False, input_shape = (224,224,3))\n",
    "\n",
    "for layer in base_model.layers:\n",
    "  layer.trainbable = False"
   ]
  },
  {
   "cell_type": "code",
   "execution_count": 12,
   "metadata": {
    "colab": {},
    "colab_type": "code",
    "id": "JvKgA23yoeLL"
   },
   "outputs": [],
   "source": [
    "base_model.trainable=False"
   ]
  },
  {
   "cell_type": "code",
   "execution_count": 13,
   "metadata": {
    "colab": {
     "base_uri": "https://localhost:8080/",
     "height": 1000
    },
    "colab_type": "code",
    "id": "eMj1K4XBoeLR",
    "outputId": "fad0258c-7aad-4d05-fd36-692f91a29c4c"
   },
   "outputs": [
    {
     "name": "stdout",
     "output_type": "stream",
     "text": [
      "Model: \"resnet50\"\n",
      "__________________________________________________________________________________________________\n",
      "Layer (type)                    Output Shape         Param #     Connected to                     \n",
      "==================================================================================================\n",
      "input_1 (InputLayer)            [(None, 224, 224, 3) 0                                            \n",
      "__________________________________________________________________________________________________\n",
      "conv1_pad (ZeroPadding2D)       (None, 230, 230, 3)  0           input_1[0][0]                    \n",
      "__________________________________________________________________________________________________\n",
      "conv1_conv (Conv2D)             (None, 112, 112, 64) 9472        conv1_pad[0][0]                  \n",
      "__________________________________________________________________________________________________\n",
      "conv1_bn (BatchNormalization)   (None, 112, 112, 64) 256         conv1_conv[0][0]                 \n",
      "__________________________________________________________________________________________________\n",
      "conv1_relu (Activation)         (None, 112, 112, 64) 0           conv1_bn[0][0]                   \n",
      "__________________________________________________________________________________________________\n",
      "pool1_pad (ZeroPadding2D)       (None, 114, 114, 64) 0           conv1_relu[0][0]                 \n",
      "__________________________________________________________________________________________________\n",
      "pool1_pool (MaxPooling2D)       (None, 56, 56, 64)   0           pool1_pad[0][0]                  \n",
      "__________________________________________________________________________________________________\n",
      "conv2_block1_1_conv (Conv2D)    (None, 56, 56, 64)   4160        pool1_pool[0][0]                 \n",
      "__________________________________________________________________________________________________\n",
      "conv2_block1_1_bn (BatchNormali (None, 56, 56, 64)   256         conv2_block1_1_conv[0][0]        \n",
      "__________________________________________________________________________________________________\n",
      "conv2_block1_1_relu (Activation (None, 56, 56, 64)   0           conv2_block1_1_bn[0][0]          \n",
      "__________________________________________________________________________________________________\n",
      "conv2_block1_2_conv (Conv2D)    (None, 56, 56, 64)   36928       conv2_block1_1_relu[0][0]        \n",
      "__________________________________________________________________________________________________\n",
      "conv2_block1_2_bn (BatchNormali (None, 56, 56, 64)   256         conv2_block1_2_conv[0][0]        \n",
      "__________________________________________________________________________________________________\n",
      "conv2_block1_2_relu (Activation (None, 56, 56, 64)   0           conv2_block1_2_bn[0][0]          \n",
      "__________________________________________________________________________________________________\n",
      "conv2_block1_0_conv (Conv2D)    (None, 56, 56, 256)  16640       pool1_pool[0][0]                 \n",
      "__________________________________________________________________________________________________\n",
      "conv2_block1_3_conv (Conv2D)    (None, 56, 56, 256)  16640       conv2_block1_2_relu[0][0]        \n",
      "__________________________________________________________________________________________________\n",
      "conv2_block1_0_bn (BatchNormali (None, 56, 56, 256)  1024        conv2_block1_0_conv[0][0]        \n",
      "__________________________________________________________________________________________________\n",
      "conv2_block1_3_bn (BatchNormali (None, 56, 56, 256)  1024        conv2_block1_3_conv[0][0]        \n",
      "__________________________________________________________________________________________________\n",
      "conv2_block1_add (Add)          (None, 56, 56, 256)  0           conv2_block1_0_bn[0][0]          \n",
      "                                                                 conv2_block1_3_bn[0][0]          \n",
      "__________________________________________________________________________________________________\n",
      "conv2_block1_out (Activation)   (None, 56, 56, 256)  0           conv2_block1_add[0][0]           \n",
      "__________________________________________________________________________________________________\n",
      "conv2_block2_1_conv (Conv2D)    (None, 56, 56, 64)   16448       conv2_block1_out[0][0]           \n",
      "__________________________________________________________________________________________________\n",
      "conv2_block2_1_bn (BatchNormali (None, 56, 56, 64)   256         conv2_block2_1_conv[0][0]        \n",
      "__________________________________________________________________________________________________\n",
      "conv2_block2_1_relu (Activation (None, 56, 56, 64)   0           conv2_block2_1_bn[0][0]          \n",
      "__________________________________________________________________________________________________\n",
      "conv2_block2_2_conv (Conv2D)    (None, 56, 56, 64)   36928       conv2_block2_1_relu[0][0]        \n",
      "__________________________________________________________________________________________________\n",
      "conv2_block2_2_bn (BatchNormali (None, 56, 56, 64)   256         conv2_block2_2_conv[0][0]        \n",
      "__________________________________________________________________________________________________\n",
      "conv2_block2_2_relu (Activation (None, 56, 56, 64)   0           conv2_block2_2_bn[0][0]          \n",
      "__________________________________________________________________________________________________\n",
      "conv2_block2_3_conv (Conv2D)    (None, 56, 56, 256)  16640       conv2_block2_2_relu[0][0]        \n",
      "__________________________________________________________________________________________________\n",
      "conv2_block2_3_bn (BatchNormali (None, 56, 56, 256)  1024        conv2_block2_3_conv[0][0]        \n",
      "__________________________________________________________________________________________________\n",
      "conv2_block2_add (Add)          (None, 56, 56, 256)  0           conv2_block1_out[0][0]           \n",
      "                                                                 conv2_block2_3_bn[0][0]          \n",
      "__________________________________________________________________________________________________\n",
      "conv2_block2_out (Activation)   (None, 56, 56, 256)  0           conv2_block2_add[0][0]           \n",
      "__________________________________________________________________________________________________\n",
      "conv2_block3_1_conv (Conv2D)    (None, 56, 56, 64)   16448       conv2_block2_out[0][0]           \n",
      "__________________________________________________________________________________________________\n",
      "conv2_block3_1_bn (BatchNormali (None, 56, 56, 64)   256         conv2_block3_1_conv[0][0]        \n",
      "__________________________________________________________________________________________________\n",
      "conv2_block3_1_relu (Activation (None, 56, 56, 64)   0           conv2_block3_1_bn[0][0]          \n",
      "__________________________________________________________________________________________________\n",
      "conv2_block3_2_conv (Conv2D)    (None, 56, 56, 64)   36928       conv2_block3_1_relu[0][0]        \n",
      "__________________________________________________________________________________________________\n",
      "conv2_block3_2_bn (BatchNormali (None, 56, 56, 64)   256         conv2_block3_2_conv[0][0]        \n",
      "__________________________________________________________________________________________________\n",
      "conv2_block3_2_relu (Activation (None, 56, 56, 64)   0           conv2_block3_2_bn[0][0]          \n",
      "__________________________________________________________________________________________________\n",
      "conv2_block3_3_conv (Conv2D)    (None, 56, 56, 256)  16640       conv2_block3_2_relu[0][0]        \n",
      "__________________________________________________________________________________________________\n",
      "conv2_block3_3_bn (BatchNormali (None, 56, 56, 256)  1024        conv2_block3_3_conv[0][0]        \n",
      "__________________________________________________________________________________________________\n",
      "conv2_block3_add (Add)          (None, 56, 56, 256)  0           conv2_block2_out[0][0]           \n",
      "                                                                 conv2_block3_3_bn[0][0]          \n",
      "__________________________________________________________________________________________________\n",
      "conv2_block3_out (Activation)   (None, 56, 56, 256)  0           conv2_block3_add[0][0]           \n",
      "__________________________________________________________________________________________________\n",
      "conv3_block1_1_conv (Conv2D)    (None, 28, 28, 128)  32896       conv2_block3_out[0][0]           \n",
      "__________________________________________________________________________________________________\n",
      "conv3_block1_1_bn (BatchNormali (None, 28, 28, 128)  512         conv3_block1_1_conv[0][0]        \n",
      "__________________________________________________________________________________________________\n",
      "conv3_block1_1_relu (Activation (None, 28, 28, 128)  0           conv3_block1_1_bn[0][0]          \n",
      "__________________________________________________________________________________________________\n",
      "conv3_block1_2_conv (Conv2D)    (None, 28, 28, 128)  147584      conv3_block1_1_relu[0][0]        \n",
      "__________________________________________________________________________________________________\n",
      "conv3_block1_2_bn (BatchNormali (None, 28, 28, 128)  512         conv3_block1_2_conv[0][0]        \n",
      "__________________________________________________________________________________________________\n",
      "conv3_block1_2_relu (Activation (None, 28, 28, 128)  0           conv3_block1_2_bn[0][0]          \n",
      "__________________________________________________________________________________________________\n",
      "conv3_block1_0_conv (Conv2D)    (None, 28, 28, 512)  131584      conv2_block3_out[0][0]           \n",
      "__________________________________________________________________________________________________\n",
      "conv3_block1_3_conv (Conv2D)    (None, 28, 28, 512)  66048       conv3_block1_2_relu[0][0]        \n",
      "__________________________________________________________________________________________________\n",
      "conv3_block1_0_bn (BatchNormali (None, 28, 28, 512)  2048        conv3_block1_0_conv[0][0]        \n",
      "__________________________________________________________________________________________________\n",
      "conv3_block1_3_bn (BatchNormali (None, 28, 28, 512)  2048        conv3_block1_3_conv[0][0]        \n",
      "__________________________________________________________________________________________________\n",
      "conv3_block1_add (Add)          (None, 28, 28, 512)  0           conv3_block1_0_bn[0][0]          \n",
      "                                                                 conv3_block1_3_bn[0][0]          \n",
      "__________________________________________________________________________________________________\n",
      "conv3_block1_out (Activation)   (None, 28, 28, 512)  0           conv3_block1_add[0][0]           \n",
      "__________________________________________________________________________________________________\n",
      "conv3_block2_1_conv (Conv2D)    (None, 28, 28, 128)  65664       conv3_block1_out[0][0]           \n",
      "__________________________________________________________________________________________________\n",
      "conv3_block2_1_bn (BatchNormali (None, 28, 28, 128)  512         conv3_block2_1_conv[0][0]        \n",
      "__________________________________________________________________________________________________\n",
      "conv3_block2_1_relu (Activation (None, 28, 28, 128)  0           conv3_block2_1_bn[0][0]          \n",
      "__________________________________________________________________________________________________\n",
      "conv3_block2_2_conv (Conv2D)    (None, 28, 28, 128)  147584      conv3_block2_1_relu[0][0]        \n",
      "__________________________________________________________________________________________________\n",
      "conv3_block2_2_bn (BatchNormali (None, 28, 28, 128)  512         conv3_block2_2_conv[0][0]        \n",
      "__________________________________________________________________________________________________\n",
      "conv3_block2_2_relu (Activation (None, 28, 28, 128)  0           conv3_block2_2_bn[0][0]          \n",
      "__________________________________________________________________________________________________\n",
      "conv3_block2_3_conv (Conv2D)    (None, 28, 28, 512)  66048       conv3_block2_2_relu[0][0]        \n",
      "__________________________________________________________________________________________________\n",
      "conv3_block2_3_bn (BatchNormali (None, 28, 28, 512)  2048        conv3_block2_3_conv[0][0]        \n",
      "__________________________________________________________________________________________________\n",
      "conv3_block2_add (Add)          (None, 28, 28, 512)  0           conv3_block1_out[0][0]           \n",
      "                                                                 conv3_block2_3_bn[0][0]          \n",
      "__________________________________________________________________________________________________\n",
      "conv3_block2_out (Activation)   (None, 28, 28, 512)  0           conv3_block2_add[0][0]           \n",
      "__________________________________________________________________________________________________\n",
      "conv3_block3_1_conv (Conv2D)    (None, 28, 28, 128)  65664       conv3_block2_out[0][0]           \n",
      "__________________________________________________________________________________________________\n",
      "conv3_block3_1_bn (BatchNormali (None, 28, 28, 128)  512         conv3_block3_1_conv[0][0]        \n",
      "__________________________________________________________________________________________________\n",
      "conv3_block3_1_relu (Activation (None, 28, 28, 128)  0           conv3_block3_1_bn[0][0]          \n",
      "__________________________________________________________________________________________________\n",
      "conv3_block3_2_conv (Conv2D)    (None, 28, 28, 128)  147584      conv3_block3_1_relu[0][0]        \n",
      "__________________________________________________________________________________________________\n",
      "conv3_block3_2_bn (BatchNormali (None, 28, 28, 128)  512         conv3_block3_2_conv[0][0]        \n",
      "__________________________________________________________________________________________________\n",
      "conv3_block3_2_relu (Activation (None, 28, 28, 128)  0           conv3_block3_2_bn[0][0]          \n",
      "__________________________________________________________________________________________________\n",
      "conv3_block3_3_conv (Conv2D)    (None, 28, 28, 512)  66048       conv3_block3_2_relu[0][0]        \n",
      "__________________________________________________________________________________________________\n",
      "conv3_block3_3_bn (BatchNormali (None, 28, 28, 512)  2048        conv3_block3_3_conv[0][0]        \n",
      "__________________________________________________________________________________________________\n",
      "conv3_block3_add (Add)          (None, 28, 28, 512)  0           conv3_block2_out[0][0]           \n",
      "                                                                 conv3_block3_3_bn[0][0]          \n",
      "__________________________________________________________________________________________________\n",
      "conv3_block3_out (Activation)   (None, 28, 28, 512)  0           conv3_block3_add[0][0]           \n",
      "__________________________________________________________________________________________________\n",
      "conv3_block4_1_conv (Conv2D)    (None, 28, 28, 128)  65664       conv3_block3_out[0][0]           \n",
      "__________________________________________________________________________________________________\n",
      "conv3_block4_1_bn (BatchNormali (None, 28, 28, 128)  512         conv3_block4_1_conv[0][0]        \n",
      "__________________________________________________________________________________________________\n",
      "conv3_block4_1_relu (Activation (None, 28, 28, 128)  0           conv3_block4_1_bn[0][0]          \n",
      "__________________________________________________________________________________________________\n",
      "conv3_block4_2_conv (Conv2D)    (None, 28, 28, 128)  147584      conv3_block4_1_relu[0][0]        \n",
      "__________________________________________________________________________________________________\n",
      "conv3_block4_2_bn (BatchNormali (None, 28, 28, 128)  512         conv3_block4_2_conv[0][0]        \n",
      "__________________________________________________________________________________________________\n",
      "conv3_block4_2_relu (Activation (None, 28, 28, 128)  0           conv3_block4_2_bn[0][0]          \n",
      "__________________________________________________________________________________________________\n",
      "conv3_block4_3_conv (Conv2D)    (None, 28, 28, 512)  66048       conv3_block4_2_relu[0][0]        \n",
      "__________________________________________________________________________________________________\n",
      "conv3_block4_3_bn (BatchNormali (None, 28, 28, 512)  2048        conv3_block4_3_conv[0][0]        \n",
      "__________________________________________________________________________________________________\n",
      "conv3_block4_add (Add)          (None, 28, 28, 512)  0           conv3_block3_out[0][0]           \n",
      "                                                                 conv3_block4_3_bn[0][0]          \n",
      "__________________________________________________________________________________________________\n",
      "conv3_block4_out (Activation)   (None, 28, 28, 512)  0           conv3_block4_add[0][0]           \n",
      "__________________________________________________________________________________________________\n",
      "conv4_block1_1_conv (Conv2D)    (None, 14, 14, 256)  131328      conv3_block4_out[0][0]           \n",
      "__________________________________________________________________________________________________\n",
      "conv4_block1_1_bn (BatchNormali (None, 14, 14, 256)  1024        conv4_block1_1_conv[0][0]        \n",
      "__________________________________________________________________________________________________\n",
      "conv4_block1_1_relu (Activation (None, 14, 14, 256)  0           conv4_block1_1_bn[0][0]          \n",
      "__________________________________________________________________________________________________\n",
      "conv4_block1_2_conv (Conv2D)    (None, 14, 14, 256)  590080      conv4_block1_1_relu[0][0]        \n",
      "__________________________________________________________________________________________________\n",
      "conv4_block1_2_bn (BatchNormali (None, 14, 14, 256)  1024        conv4_block1_2_conv[0][0]        \n",
      "__________________________________________________________________________________________________\n",
      "conv4_block1_2_relu (Activation (None, 14, 14, 256)  0           conv4_block1_2_bn[0][0]          \n",
      "__________________________________________________________________________________________________\n",
      "conv4_block1_0_conv (Conv2D)    (None, 14, 14, 1024) 525312      conv3_block4_out[0][0]           \n",
      "__________________________________________________________________________________________________\n",
      "conv4_block1_3_conv (Conv2D)    (None, 14, 14, 1024) 263168      conv4_block1_2_relu[0][0]        \n",
      "__________________________________________________________________________________________________\n",
      "conv4_block1_0_bn (BatchNormali (None, 14, 14, 1024) 4096        conv4_block1_0_conv[0][0]        \n",
      "__________________________________________________________________________________________________\n",
      "conv4_block1_3_bn (BatchNormali (None, 14, 14, 1024) 4096        conv4_block1_3_conv[0][0]        \n",
      "__________________________________________________________________________________________________\n",
      "conv4_block1_add (Add)          (None, 14, 14, 1024) 0           conv4_block1_0_bn[0][0]          \n",
      "                                                                 conv4_block1_3_bn[0][0]          \n",
      "__________________________________________________________________________________________________\n",
      "conv4_block1_out (Activation)   (None, 14, 14, 1024) 0           conv4_block1_add[0][0]           \n",
      "__________________________________________________________________________________________________\n",
      "conv4_block2_1_conv (Conv2D)    (None, 14, 14, 256)  262400      conv4_block1_out[0][0]           \n",
      "__________________________________________________________________________________________________\n",
      "conv4_block2_1_bn (BatchNormali (None, 14, 14, 256)  1024        conv4_block2_1_conv[0][0]        \n",
      "__________________________________________________________________________________________________\n",
      "conv4_block2_1_relu (Activation (None, 14, 14, 256)  0           conv4_block2_1_bn[0][0]          \n",
      "__________________________________________________________________________________________________\n",
      "conv4_block2_2_conv (Conv2D)    (None, 14, 14, 256)  590080      conv4_block2_1_relu[0][0]        \n",
      "__________________________________________________________________________________________________\n",
      "conv4_block2_2_bn (BatchNormali (None, 14, 14, 256)  1024        conv4_block2_2_conv[0][0]        \n",
      "__________________________________________________________________________________________________\n",
      "conv4_block2_2_relu (Activation (None, 14, 14, 256)  0           conv4_block2_2_bn[0][0]          \n",
      "__________________________________________________________________________________________________\n",
      "conv4_block2_3_conv (Conv2D)    (None, 14, 14, 1024) 263168      conv4_block2_2_relu[0][0]        \n",
      "__________________________________________________________________________________________________\n",
      "conv4_block2_3_bn (BatchNormali (None, 14, 14, 1024) 4096        conv4_block2_3_conv[0][0]        \n",
      "__________________________________________________________________________________________________\n",
      "conv4_block2_add (Add)          (None, 14, 14, 1024) 0           conv4_block1_out[0][0]           \n",
      "                                                                 conv4_block2_3_bn[0][0]          \n",
      "__________________________________________________________________________________________________\n",
      "conv4_block2_out (Activation)   (None, 14, 14, 1024) 0           conv4_block2_add[0][0]           \n",
      "__________________________________________________________________________________________________\n",
      "conv4_block3_1_conv (Conv2D)    (None, 14, 14, 256)  262400      conv4_block2_out[0][0]           \n",
      "__________________________________________________________________________________________________\n",
      "conv4_block3_1_bn (BatchNormali (None, 14, 14, 256)  1024        conv4_block3_1_conv[0][0]        \n",
      "__________________________________________________________________________________________________\n",
      "conv4_block3_1_relu (Activation (None, 14, 14, 256)  0           conv4_block3_1_bn[0][0]          \n",
      "__________________________________________________________________________________________________\n",
      "conv4_block3_2_conv (Conv2D)    (None, 14, 14, 256)  590080      conv4_block3_1_relu[0][0]        \n",
      "__________________________________________________________________________________________________\n",
      "conv4_block3_2_bn (BatchNormali (None, 14, 14, 256)  1024        conv4_block3_2_conv[0][0]        \n",
      "__________________________________________________________________________________________________\n",
      "conv4_block3_2_relu (Activation (None, 14, 14, 256)  0           conv4_block3_2_bn[0][0]          \n",
      "__________________________________________________________________________________________________\n",
      "conv4_block3_3_conv (Conv2D)    (None, 14, 14, 1024) 263168      conv4_block3_2_relu[0][0]        \n",
      "__________________________________________________________________________________________________\n",
      "conv4_block3_3_bn (BatchNormali (None, 14, 14, 1024) 4096        conv4_block3_3_conv[0][0]        \n",
      "__________________________________________________________________________________________________\n",
      "conv4_block3_add (Add)          (None, 14, 14, 1024) 0           conv4_block2_out[0][0]           \n",
      "                                                                 conv4_block3_3_bn[0][0]          \n",
      "__________________________________________________________________________________________________\n",
      "conv4_block3_out (Activation)   (None, 14, 14, 1024) 0           conv4_block3_add[0][0]           \n",
      "__________________________________________________________________________________________________\n",
      "conv4_block4_1_conv (Conv2D)    (None, 14, 14, 256)  262400      conv4_block3_out[0][0]           \n",
      "__________________________________________________________________________________________________\n",
      "conv4_block4_1_bn (BatchNormali (None, 14, 14, 256)  1024        conv4_block4_1_conv[0][0]        \n",
      "__________________________________________________________________________________________________\n",
      "conv4_block4_1_relu (Activation (None, 14, 14, 256)  0           conv4_block4_1_bn[0][0]          \n",
      "__________________________________________________________________________________________________\n",
      "conv4_block4_2_conv (Conv2D)    (None, 14, 14, 256)  590080      conv4_block4_1_relu[0][0]        \n",
      "__________________________________________________________________________________________________\n",
      "conv4_block4_2_bn (BatchNormali (None, 14, 14, 256)  1024        conv4_block4_2_conv[0][0]        \n",
      "__________________________________________________________________________________________________\n",
      "conv4_block4_2_relu (Activation (None, 14, 14, 256)  0           conv4_block4_2_bn[0][0]          \n",
      "__________________________________________________________________________________________________\n",
      "conv4_block4_3_conv (Conv2D)    (None, 14, 14, 1024) 263168      conv4_block4_2_relu[0][0]        \n",
      "__________________________________________________________________________________________________\n",
      "conv4_block4_3_bn (BatchNormali (None, 14, 14, 1024) 4096        conv4_block4_3_conv[0][0]        \n",
      "__________________________________________________________________________________________________\n",
      "conv4_block4_add (Add)          (None, 14, 14, 1024) 0           conv4_block3_out[0][0]           \n",
      "                                                                 conv4_block4_3_bn[0][0]          \n",
      "__________________________________________________________________________________________________\n",
      "conv4_block4_out (Activation)   (None, 14, 14, 1024) 0           conv4_block4_add[0][0]           \n",
      "__________________________________________________________________________________________________\n",
      "conv4_block5_1_conv (Conv2D)    (None, 14, 14, 256)  262400      conv4_block4_out[0][0]           \n",
      "__________________________________________________________________________________________________\n",
      "conv4_block5_1_bn (BatchNormali (None, 14, 14, 256)  1024        conv4_block5_1_conv[0][0]        \n",
      "__________________________________________________________________________________________________\n",
      "conv4_block5_1_relu (Activation (None, 14, 14, 256)  0           conv4_block5_1_bn[0][0]          \n",
      "__________________________________________________________________________________________________\n",
      "conv4_block5_2_conv (Conv2D)    (None, 14, 14, 256)  590080      conv4_block5_1_relu[0][0]        \n",
      "__________________________________________________________________________________________________\n",
      "conv4_block5_2_bn (BatchNormali (None, 14, 14, 256)  1024        conv4_block5_2_conv[0][0]        \n",
      "__________________________________________________________________________________________________\n",
      "conv4_block5_2_relu (Activation (None, 14, 14, 256)  0           conv4_block5_2_bn[0][0]          \n",
      "__________________________________________________________________________________________________\n",
      "conv4_block5_3_conv (Conv2D)    (None, 14, 14, 1024) 263168      conv4_block5_2_relu[0][0]        \n",
      "__________________________________________________________________________________________________\n",
      "conv4_block5_3_bn (BatchNormali (None, 14, 14, 1024) 4096        conv4_block5_3_conv[0][0]        \n",
      "__________________________________________________________________________________________________\n",
      "conv4_block5_add (Add)          (None, 14, 14, 1024) 0           conv4_block4_out[0][0]           \n",
      "                                                                 conv4_block5_3_bn[0][0]          \n",
      "__________________________________________________________________________________________________\n",
      "conv4_block5_out (Activation)   (None, 14, 14, 1024) 0           conv4_block5_add[0][0]           \n",
      "__________________________________________________________________________________________________\n",
      "conv4_block6_1_conv (Conv2D)    (None, 14, 14, 256)  262400      conv4_block5_out[0][0]           \n",
      "__________________________________________________________________________________________________\n",
      "conv4_block6_1_bn (BatchNormali (None, 14, 14, 256)  1024        conv4_block6_1_conv[0][0]        \n",
      "__________________________________________________________________________________________________\n",
      "conv4_block6_1_relu (Activation (None, 14, 14, 256)  0           conv4_block6_1_bn[0][0]          \n",
      "__________________________________________________________________________________________________\n",
      "conv4_block6_2_conv (Conv2D)    (None, 14, 14, 256)  590080      conv4_block6_1_relu[0][0]        \n",
      "__________________________________________________________________________________________________\n",
      "conv4_block6_2_bn (BatchNormali (None, 14, 14, 256)  1024        conv4_block6_2_conv[0][0]        \n",
      "__________________________________________________________________________________________________\n",
      "conv4_block6_2_relu (Activation (None, 14, 14, 256)  0           conv4_block6_2_bn[0][0]          \n",
      "__________________________________________________________________________________________________\n",
      "conv4_block6_3_conv (Conv2D)    (None, 14, 14, 1024) 263168      conv4_block6_2_relu[0][0]        \n",
      "__________________________________________________________________________________________________\n",
      "conv4_block6_3_bn (BatchNormali (None, 14, 14, 1024) 4096        conv4_block6_3_conv[0][0]        \n",
      "__________________________________________________________________________________________________\n",
      "conv4_block6_add (Add)          (None, 14, 14, 1024) 0           conv4_block5_out[0][0]           \n",
      "                                                                 conv4_block6_3_bn[0][0]          \n",
      "__________________________________________________________________________________________________\n",
      "conv4_block6_out (Activation)   (None, 14, 14, 1024) 0           conv4_block6_add[0][0]           \n",
      "__________________________________________________________________________________________________\n",
      "conv5_block1_1_conv (Conv2D)    (None, 7, 7, 512)    524800      conv4_block6_out[0][0]           \n",
      "__________________________________________________________________________________________________\n",
      "conv5_block1_1_bn (BatchNormali (None, 7, 7, 512)    2048        conv5_block1_1_conv[0][0]        \n",
      "__________________________________________________________________________________________________\n",
      "conv5_block1_1_relu (Activation (None, 7, 7, 512)    0           conv5_block1_1_bn[0][0]          \n",
      "__________________________________________________________________________________________________\n",
      "conv5_block1_2_conv (Conv2D)    (None, 7, 7, 512)    2359808     conv5_block1_1_relu[0][0]        \n",
      "__________________________________________________________________________________________________\n",
      "conv5_block1_2_bn (BatchNormali (None, 7, 7, 512)    2048        conv5_block1_2_conv[0][0]        \n",
      "__________________________________________________________________________________________________\n",
      "conv5_block1_2_relu (Activation (None, 7, 7, 512)    0           conv5_block1_2_bn[0][0]          \n",
      "__________________________________________________________________________________________________\n",
      "conv5_block1_0_conv (Conv2D)    (None, 7, 7, 2048)   2099200     conv4_block6_out[0][0]           \n",
      "__________________________________________________________________________________________________\n",
      "conv5_block1_3_conv (Conv2D)    (None, 7, 7, 2048)   1050624     conv5_block1_2_relu[0][0]        \n",
      "__________________________________________________________________________________________________\n",
      "conv5_block1_0_bn (BatchNormali (None, 7, 7, 2048)   8192        conv5_block1_0_conv[0][0]        \n",
      "__________________________________________________________________________________________________\n",
      "conv5_block1_3_bn (BatchNormali (None, 7, 7, 2048)   8192        conv5_block1_3_conv[0][0]        \n",
      "__________________________________________________________________________________________________\n",
      "conv5_block1_add (Add)          (None, 7, 7, 2048)   0           conv5_block1_0_bn[0][0]          \n",
      "                                                                 conv5_block1_3_bn[0][0]          \n",
      "__________________________________________________________________________________________________\n",
      "conv5_block1_out (Activation)   (None, 7, 7, 2048)   0           conv5_block1_add[0][0]           \n",
      "__________________________________________________________________________________________________\n",
      "conv5_block2_1_conv (Conv2D)    (None, 7, 7, 512)    1049088     conv5_block1_out[0][0]           \n",
      "__________________________________________________________________________________________________\n",
      "conv5_block2_1_bn (BatchNormali (None, 7, 7, 512)    2048        conv5_block2_1_conv[0][0]        \n",
      "__________________________________________________________________________________________________\n",
      "conv5_block2_1_relu (Activation (None, 7, 7, 512)    0           conv5_block2_1_bn[0][0]          \n",
      "__________________________________________________________________________________________________\n",
      "conv5_block2_2_conv (Conv2D)    (None, 7, 7, 512)    2359808     conv5_block2_1_relu[0][0]        \n",
      "__________________________________________________________________________________________________\n",
      "conv5_block2_2_bn (BatchNormali (None, 7, 7, 512)    2048        conv5_block2_2_conv[0][0]        \n",
      "__________________________________________________________________________________________________\n",
      "conv5_block2_2_relu (Activation (None, 7, 7, 512)    0           conv5_block2_2_bn[0][0]          \n",
      "__________________________________________________________________________________________________\n",
      "conv5_block2_3_conv (Conv2D)    (None, 7, 7, 2048)   1050624     conv5_block2_2_relu[0][0]        \n",
      "__________________________________________________________________________________________________\n",
      "conv5_block2_3_bn (BatchNormali (None, 7, 7, 2048)   8192        conv5_block2_3_conv[0][0]        \n",
      "__________________________________________________________________________________________________\n",
      "conv5_block2_add (Add)          (None, 7, 7, 2048)   0           conv5_block1_out[0][0]           \n",
      "                                                                 conv5_block2_3_bn[0][0]          \n",
      "__________________________________________________________________________________________________\n",
      "conv5_block2_out (Activation)   (None, 7, 7, 2048)   0           conv5_block2_add[0][0]           \n",
      "__________________________________________________________________________________________________\n",
      "conv5_block3_1_conv (Conv2D)    (None, 7, 7, 512)    1049088     conv5_block2_out[0][0]           \n",
      "__________________________________________________________________________________________________\n",
      "conv5_block3_1_bn (BatchNormali (None, 7, 7, 512)    2048        conv5_block3_1_conv[0][0]        \n",
      "__________________________________________________________________________________________________\n",
      "conv5_block3_1_relu (Activation (None, 7, 7, 512)    0           conv5_block3_1_bn[0][0]          \n",
      "__________________________________________________________________________________________________\n",
      "conv5_block3_2_conv (Conv2D)    (None, 7, 7, 512)    2359808     conv5_block3_1_relu[0][0]        \n",
      "__________________________________________________________________________________________________\n",
      "conv5_block3_2_bn (BatchNormali (None, 7, 7, 512)    2048        conv5_block3_2_conv[0][0]        \n",
      "__________________________________________________________________________________________________\n",
      "conv5_block3_2_relu (Activation (None, 7, 7, 512)    0           conv5_block3_2_bn[0][0]          \n",
      "__________________________________________________________________________________________________\n",
      "conv5_block3_3_conv (Conv2D)    (None, 7, 7, 2048)   1050624     conv5_block3_2_relu[0][0]        \n",
      "__________________________________________________________________________________________________\n",
      "conv5_block3_3_bn (BatchNormali (None, 7, 7, 2048)   8192        conv5_block3_3_conv[0][0]        \n",
      "__________________________________________________________________________________________________\n",
      "conv5_block3_add (Add)          (None, 7, 7, 2048)   0           conv5_block2_out[0][0]           \n",
      "                                                                 conv5_block3_3_bn[0][0]          \n",
      "__________________________________________________________________________________________________\n",
      "conv5_block3_out (Activation)   (None, 7, 7, 2048)   0           conv5_block3_add[0][0]           \n",
      "==================================================================================================\n",
      "Total params: 23,587,712\n",
      "Trainable params: 0\n",
      "Non-trainable params: 23,587,712\n",
      "__________________________________________________________________________________________________\n"
     ]
    }
   ],
   "source": [
    "base_model.summary()"
   ]
  },
  {
   "cell_type": "code",
   "execution_count": 14,
   "metadata": {
    "colab": {},
    "colab_type": "code",
    "id": "D2g6Mw91pCQG"
   },
   "outputs": [],
   "source": [
    "x = base_model.output\n",
    "x = GlobalAveragePooling2D()(x) # This layer is a really fancy flatten\n",
    "x = Dense(1024, activation='relu')(x)\n",
    "predictions = Dense(1, activation='sigmoid')(x)\n",
    "model = Model(base_model.input, predictions)"
   ]
  },
  {
   "cell_type": "code",
   "execution_count": 15,
   "metadata": {
    "colab": {
     "base_uri": "https://localhost:8080/",
     "height": 434
    },
    "colab_type": "code",
    "id": "yP3X3AghpCh9",
    "outputId": "4518293f-ae9a-4652-f589-c2090e9e2fd7"
   },
   "outputs": [
    {
     "name": "stdout",
     "output_type": "stream",
     "text": [
      "Model: \"sequential\"\n",
      "_________________________________________________________________\n",
      "Layer (type)                 Output Shape              Param #   \n",
      "=================================================================\n",
      "conv2d (Conv2D)              (None, 222, 222, 32)      896       \n",
      "_________________________________________________________________\n",
      "max_pooling2d (MaxPooling2D) (None, 111, 111, 32)      0         \n",
      "_________________________________________________________________\n",
      "conv2d_1 (Conv2D)            (None, 109, 109, 64)      18496     \n",
      "_________________________________________________________________\n",
      "max_pooling2d_1 (MaxPooling2 (None, 54, 54, 64)        0         \n",
      "_________________________________________________________________\n",
      "conv2d_2 (Conv2D)            (None, 52, 52, 64)        36928     \n",
      "_________________________________________________________________\n",
      "flatten (Flatten)            (None, 173056)            0         \n",
      "_________________________________________________________________\n",
      "dense_2 (Dense)              (None, 64)                11075648  \n",
      "_________________________________________________________________\n",
      "dense_3 (Dense)              (None, 10)                650       \n",
      "=================================================================\n",
      "Total params: 11,132,618\n",
      "Trainable params: 11,132,618\n",
      "Non-trainable params: 0\n",
      "_________________________________________________________________\n"
     ]
    }
   ],
   "source": [
    "# Setup Architecture\n",
    "model = Sequential()\n",
    "model.add(Conv2D(32, kernel_size=(3,3), activation='relu', input_shape=(224,224,3)))\n",
    "model.add(MaxPooling2D(pool_size=(2,2)))\n",
    "model.add(Conv2D(64, kernel_size=(3,3), activation='relu'))\n",
    "model.add(MaxPooling2D(pool_size=(2,2)))\n",
    "model.add(Conv2D(64, kernel_size=(3,3), activation='relu'))\n",
    "model.add(Flatten())\n",
    "model.add(Dense(64, activation='relu'))\n",
    "model.add(Dense(10, activation='softmax'))\n",
    "\n",
    "# Compile Model\n",
    "model.compile(optimizer='adam',\n",
    "              loss='binary_crossentropy',\n",
    "              metrics=['accuracy'])\n",
    "\n",
    "# Print summary\n",
    "model.summary()"
   ]
  },
  {
   "cell_type": "markdown",
   "metadata": {
    "colab_type": "text",
    "id": "UKVKGL6_oeLe"
   },
   "source": [
    "## Fit Model"
   ]
  },
  {
   "cell_type": "code",
   "execution_count": 16,
   "metadata": {
    "colab": {
     "base_uri": "https://localhost:8080/",
     "height": 1000
    },
    "colab_type": "code",
    "id": "yAQjWQY4oeLi",
    "outputId": "a7da4664-42a8-4f45-c7da-7f3c2a8ee5c3"
   },
   "outputs": [
    {
     "name": "stdout",
     "output_type": "stream",
     "text": [
      "Epoch 1/50\n",
      "32/32 [==============================] - 2s 69ms/step - loss: 1.1723 - accuracy: 0.4311 - val_loss: 1.5161 - val_accuracy: 0.6420\n",
      "Epoch 2/50\n",
      "32/32 [==============================] - 2s 64ms/step - loss: 1.1930 - accuracy: 0.4830 - val_loss: 1.5411 - val_accuracy: 0.5114\n",
      "Epoch 3/50\n",
      "32/32 [==============================] - 2s 62ms/step - loss: 1.1755 - accuracy: 0.1876 - val_loss: 1.5410 - val_accuracy: 0.0000e+00\n",
      "Epoch 4/50\n",
      "32/32 [==============================] - 2s 63ms/step - loss: 1.1842 - accuracy: 0.0000e+00 - val_loss: 1.5535 - val_accuracy: 0.0000e+00\n",
      "Epoch 5/50\n",
      "32/32 [==============================] - 2s 65ms/step - loss: 1.1755 - accuracy: 0.0000e+00 - val_loss: 1.5535 - val_accuracy: 0.0000e+00\n",
      "Epoch 6/50\n",
      "32/32 [==============================] - 2s 63ms/step - loss: 1.1579 - accuracy: 0.0000e+00 - val_loss: 1.5910 - val_accuracy: 0.0000e+00\n",
      "Epoch 7/50\n",
      "32/32 [==============================] - 2s 64ms/step - loss: 1.1448 - accuracy: 0.0000e+00 - val_loss: 1.5535 - val_accuracy: 0.0000e+00\n",
      "Epoch 8/50\n",
      "32/32 [==============================] - 2s 62ms/step - loss: 1.1799 - accuracy: 0.0000e+00 - val_loss: 1.5286 - val_accuracy: 0.0000e+00\n",
      "Epoch 9/50\n",
      "32/32 [==============================] - 2s 62ms/step - loss: 1.1755 - accuracy: 0.0000e+00 - val_loss: 1.5535 - val_accuracy: 0.0000e+00\n",
      "Epoch 10/50\n",
      "32/32 [==============================] - 2s 63ms/step - loss: 1.1799 - accuracy: 0.0000e+00 - val_loss: 1.5410 - val_accuracy: 0.0000e+00\n",
      "Epoch 11/50\n",
      "32/32 [==============================] - 2s 62ms/step - loss: 1.1711 - accuracy: 0.0000e+00 - val_loss: 1.5535 - val_accuracy: 0.0000e+00\n",
      "Epoch 12/50\n",
      "32/32 [==============================] - 2s 62ms/step - loss: 1.1799 - accuracy: 0.0000e+00 - val_loss: 1.5660 - val_accuracy: 0.0000e+00\n",
      "Epoch 13/50\n",
      "32/32 [==============================] - 2s 62ms/step - loss: 1.1667 - accuracy: 0.0000e+00 - val_loss: 1.5660 - val_accuracy: 0.0000e+00\n",
      "Epoch 14/50\n",
      "32/32 [==============================] - 2s 62ms/step - loss: 1.1755 - accuracy: 0.0000e+00 - val_loss: 1.5161 - val_accuracy: 0.0000e+00\n",
      "Epoch 15/50\n",
      "32/32 [==============================] - 2s 63ms/step - loss: 1.1667 - accuracy: 0.0000e+00 - val_loss: 1.5410 - val_accuracy: 0.0000e+00\n",
      "Epoch 16/50\n",
      "32/32 [==============================] - 2s 63ms/step - loss: 1.1535 - accuracy: 0.0000e+00 - val_loss: 1.5660 - val_accuracy: 0.0000e+00\n",
      "Epoch 17/50\n",
      "32/32 [==============================] - 2s 61ms/step - loss: 1.1579 - accuracy: 0.0000e+00 - val_loss: 1.5785 - val_accuracy: 0.0000e+00\n",
      "Epoch 18/50\n",
      "32/32 [==============================] - 2s 62ms/step - loss: 1.1535 - accuracy: 0.0000e+00 - val_loss: 1.5660 - val_accuracy: 0.0000e+00\n",
      "Epoch 19/50\n",
      "32/32 [==============================] - 2s 62ms/step - loss: 1.1579 - accuracy: 0.0000e+00 - val_loss: 1.4911 - val_accuracy: 0.0000e+00\n",
      "Epoch 20/50\n",
      "32/32 [==============================] - 2s 62ms/step - loss: 1.1842 - accuracy: 0.0000e+00 - val_loss: 1.5410 - val_accuracy: 0.0000e+00\n",
      "Epoch 21/50\n",
      "32/32 [==============================] - 2s 62ms/step - loss: 1.1711 - accuracy: 0.0000e+00 - val_loss: 1.5660 - val_accuracy: 0.0000e+00\n",
      "Epoch 22/50\n",
      "32/32 [==============================] - 2s 63ms/step - loss: 1.1711 - accuracy: 0.0000e+00 - val_loss: 1.5161 - val_accuracy: 0.0000e+00\n",
      "Epoch 23/50\n",
      "32/32 [==============================] - 2s 61ms/step - loss: 1.1579 - accuracy: 0.0000e+00 - val_loss: 1.5161 - val_accuracy: 0.0000e+00\n",
      "Epoch 24/50\n",
      "32/32 [==============================] - 2s 63ms/step - loss: 1.1842 - accuracy: 0.0000e+00 - val_loss: 1.5036 - val_accuracy: 0.0000e+00\n",
      "Epoch 25/50\n",
      "32/32 [==============================] - 2s 62ms/step - loss: 1.1535 - accuracy: 0.0000e+00 - val_loss: 1.5036 - val_accuracy: 0.0000e+00\n",
      "Epoch 26/50\n",
      "32/32 [==============================] - 2s 63ms/step - loss: 1.1842 - accuracy: 0.3014 - val_loss: 1.5660 - val_accuracy: 0.3352\n",
      "Epoch 27/50\n",
      "32/32 [==============================] - 2s 62ms/step - loss: 1.1535 - accuracy: 0.5230 - val_loss: 1.5161 - val_accuracy: 0.3580\n",
      "Epoch 28/50\n",
      "32/32 [==============================] - 2s 62ms/step - loss: 1.1667 - accuracy: 0.5170 - val_loss: 1.5161 - val_accuracy: 0.3580\n",
      "Epoch 29/50\n",
      "32/32 [==============================] - 2s 61ms/step - loss: 1.1667 - accuracy: 0.5170 - val_loss: 1.5910 - val_accuracy: 0.3239\n",
      "Epoch 30/50\n",
      "32/32 [==============================] - 2s 63ms/step - loss: 1.1623 - accuracy: 0.5190 - val_loss: 1.5660 - val_accuracy: 0.3352\n",
      "Epoch 31/50\n",
      "32/32 [==============================] - 2s 60ms/step - loss: 1.1755 - accuracy: 0.5130 - val_loss: 1.5161 - val_accuracy: 0.3580\n",
      "Epoch 32/50\n",
      "32/32 [==============================] - 2s 62ms/step - loss: 1.1799 - accuracy: 0.5110 - val_loss: 1.4911 - val_accuracy: 0.3693\n",
      "Epoch 33/50\n",
      "32/32 [==============================] - 2s 62ms/step - loss: 1.1535 - accuracy: 0.5230 - val_loss: 1.5286 - val_accuracy: 0.3523\n",
      "Epoch 34/50\n",
      "32/32 [==============================] - 2s 61ms/step - loss: 1.1799 - accuracy: 0.5110 - val_loss: 1.5785 - val_accuracy: 0.3295\n",
      "Epoch 35/50\n",
      "32/32 [==============================] - 2s 63ms/step - loss: 1.1886 - accuracy: 0.5070 - val_loss: 1.5410 - val_accuracy: 0.3466\n",
      "Epoch 36/50\n",
      "32/32 [==============================] - 2s 63ms/step - loss: 1.1799 - accuracy: 0.5110 - val_loss: 1.5410 - val_accuracy: 0.3466\n",
      "Epoch 37/50\n",
      "32/32 [==============================] - 2s 62ms/step - loss: 1.1886 - accuracy: 0.5070 - val_loss: 1.5535 - val_accuracy: 0.3409\n",
      "Epoch 38/50\n",
      "32/32 [==============================] - 2s 62ms/step - loss: 1.1930 - accuracy: 0.5050 - val_loss: 1.5660 - val_accuracy: 0.3352\n",
      "Epoch 39/50\n",
      "32/32 [==============================] - 2s 61ms/step - loss: 1.1579 - accuracy: 0.5210 - val_loss: 1.5535 - val_accuracy: 0.3409\n",
      "Epoch 40/50\n",
      "32/32 [==============================] - 2s 62ms/step - loss: 1.1579 - accuracy: 0.5210 - val_loss: 1.5535 - val_accuracy: 0.3409\n",
      "Epoch 41/50\n",
      "32/32 [==============================] - 2s 61ms/step - loss: 1.1492 - accuracy: 0.5250 - val_loss: 1.5660 - val_accuracy: 0.3352\n",
      "Epoch 42/50\n",
      "32/32 [==============================] - 2s 62ms/step - loss: 1.1611 - accuracy: 0.5195 - val_loss: 1.5910 - val_accuracy: 0.3239\n",
      "Epoch 43/50\n",
      "32/32 [==============================] - 2s 63ms/step - loss: 1.1568 - accuracy: 0.5215 - val_loss: 1.5910 - val_accuracy: 0.3239\n",
      "Epoch 44/50\n",
      "32/32 [==============================] - 2s 62ms/step - loss: 1.1623 - accuracy: 0.5190 - val_loss: 1.5785 - val_accuracy: 0.3295\n",
      "Epoch 45/50\n",
      "32/32 [==============================] - 2s 63ms/step - loss: 1.1611 - accuracy: 0.5195 - val_loss: 1.5660 - val_accuracy: 0.3352\n",
      "Epoch 46/50\n",
      "32/32 [==============================] - 2s 63ms/step - loss: 1.1711 - accuracy: 0.5150 - val_loss: 1.5410 - val_accuracy: 0.3466\n",
      "Epoch 47/50\n",
      "32/32 [==============================] - 2s 64ms/step - loss: 1.1623 - accuracy: 0.5190 - val_loss: 1.5410 - val_accuracy: 0.3466\n",
      "Epoch 48/50\n",
      "32/32 [==============================] - 2s 64ms/step - loss: 1.1667 - accuracy: 0.5170 - val_loss: 1.5286 - val_accuracy: 0.3523\n",
      "Epoch 49/50\n",
      "32/32 [==============================] - 2s 63ms/step - loss: 1.1667 - accuracy: 0.5170 - val_loss: 1.5535 - val_accuracy: 0.3409\n",
      "Epoch 50/50\n",
      "32/32 [==============================] - 2s 63ms/step - loss: 1.1623 - accuracy: 0.5190 - val_loss: 1.5410 - val_accuracy: 0.3466\n"
     ]
    }
   ],
   "source": [
    "history = model.fit(\n",
    "    train_data_gen,\n",
    "    steps_per_epoch=total_train // batch_size,\n",
    "    epochs=epochs,\n",
    "    validation_data=val_data_gen,\n",
    "    validation_steps=total_val // batch_size\n",
    ")"
   ]
  },
  {
   "cell_type": "code",
   "execution_count": 17,
   "metadata": {
    "colab": {},
    "colab_type": "code",
    "id": "7xFCWkARsIxp"
   },
   "outputs": [],
   "source": [
    "import matplotlib.pyplot as plt"
   ]
  },
  {
   "cell_type": "code",
   "execution_count": 18,
   "metadata": {
    "colab": {
     "base_uri": "https://localhost:8080/",
     "height": 295
    },
    "colab_type": "code",
    "id": "gKIn2Fb-rQ-y",
    "outputId": "1b5381de-0761-45de-8902-4f2fe82d69ca"
   },
   "outputs": [
    {
     "data": {
      "image/png": "[encoded data removed]",
      "text/plain": [
       "<Figure size 432x288 with 1 Axes>"
      ]
     },
     "metadata": {
      "needs_background": "light",
      "tags": []
     },
     "output_type": "display_data"
    }
   ],
   "source": [
    "plt.plot(history.history['loss'])\n",
    "plt.plot(history.history['val_loss'])\n",
    "\n",
    "plt.title('Model Loss')\n",
    "plt.ylabel('Loss')\n",
    "plt.xlabel('Epoch')\n",
    "plt.legend(['Train', 'Test'], loc='upper left')\n",
    "plt.show();"
   ]
  },
  {
   "cell_type": "code",
   "execution_count": 19,
   "metadata": {
    "colab": {
     "base_uri": "https://localhost:8080/",
     "height": 295
    },
    "colab_type": "code",
    "id": "Kv_yPvv5rRFp",
    "outputId": "2928baba-1ff7-4723-d357-495bae288b5f"
   },
   "outputs": [
    {
     "data": {
      "image/png": "[encoded data removed]",
      "text/plain": [
       "<Figure size 432x288 with 1 Axes>"
      ]
     },
     "metadata": {
      "needs_background": "light",
      "tags": []
     },
     "output_type": "display_data"
    }
   ],
   "source": [
    "plt.plot(history.history['accuracy'])\n",
    "plt.plot(history.history['val_accuracy'])\n",
    "\n",
    "plt.title('Model Accuracy')\n",
    "plt.ylabel('Accuracy')\n",
    "plt.xlabel('Epoch')\n",
    "plt.legend(['Train', 'Test'], loc='upper left')\n",
    "plt.show();"
   ]
  },
  {
   "cell_type": "code",
   "execution_count": 33,
   "metadata": {
    "colab": {},
    "colab_type": "code",
    "id": "NSS5uGhl6mk8"
   },
   "outputs": [],
   "source": [
    "images, labels = next(val_data_gen)"
   ]
  },
  {
   "cell_type": "code",
   "execution_count": 34,
   "metadata": {
    "colab": {
     "base_uri": "https://localhost:8080/",
     "height": 34
    },
    "colab_type": "code",
    "id": "hQUj1xzc6mpa",
    "outputId": "544dea8a-1e43-4125-fa85-8af6ebb950fd"
   },
   "outputs": [
    {
     "name": "stdout",
     "output_type": "stream",
     "text": [
      "1/1 - 0s - loss: 1.3413 - accuracy: 0.5000\n"
     ]
    }
   ],
   "source": [
    "test_loss, test_acc = model.evaluate(images, labels, verbose=2)"
   ]
  },
  {
   "cell_type": "markdown",
   "metadata": {
    "colab_type": "text",
    "id": "59FKtGK1oeLv"
   },
   "source": [
    "# Custom CNN Model\n",
    "\n",
    "In this step, write and train your own convolutional neural network using Keras. You can use any architecture that suits you as long as it has at least one convolutional and one pooling layer at the beginning of the network - you can add more if you want. "
   ]
  },
  {
   "cell_type": "code",
   "execution_count": 20,
   "metadata": {
    "colab": {},
    "colab_type": "code",
    "id": "QGbaeCBmoeL3"
   },
   "outputs": [],
   "source": [
    "# Define the Model\n",
    "\n",
    "model_cnn = Sequential([\n",
    "                       Conv2D(32,(3,3), activation=\"relu\", input_shape=train_data_gen[0][0][0].shape),\n",
    "                       MaxPooling2D((2,2)),\n",
    "                       Dropout(0.2),\n",
    "                       Conv2D(32,(3,3), activation=\"relu\"),\n",
    "                       MaxPooling2D((2,2)),\n",
    "                       Dropout(0.2),\n",
    "                       Conv2D(64,(3,3), activation=\"relu\"),\n",
    "                       MaxPooling2D((2,2)),\n",
    "                       Flatten(),\n",
    "                       Dense(64, activation = \"relu\"),\n",
    "                       Dropout(0.2),\n",
    "                       Dense(1, activation=\"sigmoid\")\n",
    "\n",
    "])"
   ]
  },
  {
   "cell_type": "code",
   "execution_count": 21,
   "metadata": {
    "colab": {},
    "colab_type": "code",
    "id": "c6_oSsVAoeL_"
   },
   "outputs": [],
   "source": [
    "# Compile Model\n",
    "model_cnn.compile(optimizer='adam',\n",
    "              loss='binary_crossentropy',\n",
    "              metrics=['accuracy'])"
   ]
  },
  {
   "cell_type": "code",
   "execution_count": 22,
   "metadata": {
    "colab": {
     "base_uri": "https://localhost:8080/",
     "height": 1000
    },
    "colab_type": "code",
    "id": "fp73EJdJoeMF",
    "outputId": "9e5bc087-9287-4e56-c387-97b5096dc9ac"
   },
   "outputs": [
    {
     "name": "stdout",
     "output_type": "stream",
     "text": [
      "Epoch 1/50\n",
      "32/32 [==============================] - 2s 64ms/step - loss: 0.6581 - accuracy: 0.7665 - val_loss: 0.2400 - val_accuracy: 0.8920\n",
      "Epoch 2/50\n",
      "32/32 [==============================] - 2s 59ms/step - loss: 0.2108 - accuracy: 0.9162 - val_loss: 0.2190 - val_accuracy: 0.9205\n",
      "Epoch 3/50\n",
      "32/32 [==============================] - 2s 60ms/step - loss: 0.1856 - accuracy: 0.9281 - val_loss: 0.2565 - val_accuracy: 0.8750\n",
      "Epoch 4/50\n",
      "32/32 [==============================] - 2s 60ms/step - loss: 0.1496 - accuracy: 0.9341 - val_loss: 0.1973 - val_accuracy: 0.9091\n",
      "Epoch 5/50\n",
      "32/32 [==============================] - 2s 59ms/step - loss: 0.1638 - accuracy: 0.9381 - val_loss: 0.2225 - val_accuracy: 0.9034\n",
      "Epoch 6/50\n",
      "32/32 [==============================] - 2s 59ms/step - loss: 0.1041 - accuracy: 0.9541 - val_loss: 0.3338 - val_accuracy: 0.8239\n",
      "Epoch 7/50\n",
      "32/32 [==============================] - 2s 60ms/step - loss: 0.1468 - accuracy: 0.9541 - val_loss: 0.3725 - val_accuracy: 0.8523\n",
      "Epoch 8/50\n",
      "32/32 [==============================] - 2s 59ms/step - loss: 0.1269 - accuracy: 0.9481 - val_loss: 0.2775 - val_accuracy: 0.8807\n",
      "Epoch 9/50\n",
      "32/32 [==============================] - 2s 60ms/step - loss: 0.0956 - accuracy: 0.9721 - val_loss: 0.1528 - val_accuracy: 0.9318\n",
      "Epoch 10/50\n",
      "32/32 [==============================] - 2s 60ms/step - loss: 0.0807 - accuracy: 0.9760 - val_loss: 0.3471 - val_accuracy: 0.8580\n",
      "Epoch 11/50\n",
      "32/32 [==============================] - 2s 59ms/step - loss: 0.0829 - accuracy: 0.9661 - val_loss: 0.1734 - val_accuracy: 0.9205\n",
      "Epoch 12/50\n",
      "32/32 [==============================] - 2s 58ms/step - loss: 0.0625 - accuracy: 0.9721 - val_loss: 0.1807 - val_accuracy: 0.9205\n",
      "Epoch 13/50\n",
      "32/32 [==============================] - 2s 57ms/step - loss: 0.0355 - accuracy: 0.9920 - val_loss: 0.2093 - val_accuracy: 0.9205\n",
      "Epoch 14/50\n",
      "32/32 [==============================] - 2s 58ms/step - loss: 0.0358 - accuracy: 0.9900 - val_loss: 0.2958 - val_accuracy: 0.8977\n",
      "Epoch 15/50\n",
      "32/32 [==============================] - 2s 59ms/step - loss: 0.0350 - accuracy: 0.9880 - val_loss: 0.3095 - val_accuracy: 0.9034\n",
      "Epoch 16/50\n",
      "32/32 [==============================] - 2s 60ms/step - loss: 0.0388 - accuracy: 0.9824 - val_loss: 0.2801 - val_accuracy: 0.8977\n",
      "Epoch 17/50\n",
      "32/32 [==============================] - 2s 59ms/step - loss: 0.0399 - accuracy: 0.9840 - val_loss: 0.2494 - val_accuracy: 0.8977\n",
      "Epoch 18/50\n",
      "32/32 [==============================] - 2s 59ms/step - loss: 0.0481 - accuracy: 0.9820 - val_loss: 0.1557 - val_accuracy: 0.9375\n",
      "Epoch 19/50\n",
      "32/32 [==============================] - 2s 59ms/step - loss: 0.0120 - accuracy: 0.9960 - val_loss: 0.2818 - val_accuracy: 0.9148\n",
      "Epoch 20/50\n",
      "32/32 [==============================] - 2s 59ms/step - loss: 0.0172 - accuracy: 0.9900 - val_loss: 0.1943 - val_accuracy: 0.9205\n",
      "Epoch 21/50\n",
      "32/32 [==============================] - 2s 60ms/step - loss: 0.0420 - accuracy: 0.9883 - val_loss: 0.1817 - val_accuracy: 0.9432\n",
      "Epoch 22/50\n",
      "32/32 [==============================] - 2s 59ms/step - loss: 0.0084 - accuracy: 0.9980 - val_loss: 0.1963 - val_accuracy: 0.9261\n",
      "Epoch 23/50\n",
      "32/32 [==============================] - 2s 58ms/step - loss: 0.0055 - accuracy: 0.9980 - val_loss: 0.5130 - val_accuracy: 0.8693\n",
      "Epoch 24/50\n",
      "32/32 [==============================] - 2s 59ms/step - loss: 0.0074 - accuracy: 0.9980 - val_loss: 0.1929 - val_accuracy: 0.9375\n",
      "Epoch 25/50\n",
      "32/32 [==============================] - 2s 59ms/step - loss: 0.0030 - accuracy: 0.9980 - val_loss: 0.2179 - val_accuracy: 0.9261\n",
      "Epoch 26/50\n",
      "32/32 [==============================] - 2s 58ms/step - loss: 0.0011 - accuracy: 1.0000 - val_loss: 0.2696 - val_accuracy: 0.9318\n",
      "Epoch 27/50\n",
      "32/32 [==============================] - 2s 58ms/step - loss: 5.7689e-04 - accuracy: 1.0000 - val_loss: 0.2738 - val_accuracy: 0.9318\n",
      "Epoch 28/50\n",
      "32/32 [==============================] - 2s 58ms/step - loss: 0.0013 - accuracy: 1.0000 - val_loss: 0.3479 - val_accuracy: 0.9261\n",
      "Epoch 29/50\n",
      "32/32 [==============================] - 2s 60ms/step - loss: 2.2301e-04 - accuracy: 1.0000 - val_loss: 0.3251 - val_accuracy: 0.9261\n",
      "Epoch 30/50\n",
      "32/32 [==============================] - 2s 61ms/step - loss: 3.2201e-04 - accuracy: 1.0000 - val_loss: 0.3153 - val_accuracy: 0.9318\n",
      "Epoch 31/50\n",
      "32/32 [==============================] - 2s 61ms/step - loss: 3.1450e-04 - accuracy: 1.0000 - val_loss: 0.1679 - val_accuracy: 0.9489\n",
      "Epoch 32/50\n",
      "32/32 [==============================] - 2s 58ms/step - loss: 4.0921e-04 - accuracy: 1.0000 - val_loss: 0.2813 - val_accuracy: 0.9318\n",
      "Epoch 33/50\n",
      "32/32 [==============================] - 2s 59ms/step - loss: 3.2238e-04 - accuracy: 1.0000 - val_loss: 0.3444 - val_accuracy: 0.9261\n",
      "Epoch 34/50\n",
      "32/32 [==============================] - 2s 59ms/step - loss: 1.4913e-04 - accuracy: 1.0000 - val_loss: 0.3123 - val_accuracy: 0.9261\n",
      "Epoch 35/50\n",
      "32/32 [==============================] - 2s 60ms/step - loss: 1.3825e-04 - accuracy: 1.0000 - val_loss: 0.3420 - val_accuracy: 0.9261\n",
      "Epoch 36/50\n",
      "32/32 [==============================] - 2s 59ms/step - loss: 1.2933e-04 - accuracy: 1.0000 - val_loss: 0.3442 - val_accuracy: 0.9261\n",
      "Epoch 37/50\n",
      "32/32 [==============================] - 2s 59ms/step - loss: 1.1903e-04 - accuracy: 1.0000 - val_loss: 0.2806 - val_accuracy: 0.9318\n",
      "Epoch 38/50\n",
      "32/32 [==============================] - 2s 58ms/step - loss: 3.3169e-04 - accuracy: 1.0000 - val_loss: 0.5978 - val_accuracy: 0.8977\n",
      "Epoch 39/50\n",
      "32/32 [==============================] - 2s 57ms/step - loss: 3.9664e-04 - accuracy: 1.0000 - val_loss: 0.3341 - val_accuracy: 0.9318\n",
      "Epoch 40/50\n",
      "32/32 [==============================] - 2s 58ms/step - loss: 0.0010 - accuracy: 1.0000 - val_loss: 0.1883 - val_accuracy: 0.9375\n",
      "Epoch 41/50\n",
      "32/32 [==============================] - 2s 57ms/step - loss: 0.0203 - accuracy: 0.9960 - val_loss: 0.8695 - val_accuracy: 0.7727\n",
      "Epoch 42/50\n",
      "32/32 [==============================] - 2s 59ms/step - loss: 0.0999 - accuracy: 0.9641 - val_loss: 0.1883 - val_accuracy: 0.9148\n",
      "Epoch 43/50\n",
      "32/32 [==============================] - 2s 59ms/step - loss: 0.0966 - accuracy: 0.9681 - val_loss: 0.1646 - val_accuracy: 0.9205\n",
      "Epoch 44/50\n",
      "32/32 [==============================] - 2s 58ms/step - loss: 0.0307 - accuracy: 0.9940 - val_loss: 0.4469 - val_accuracy: 0.8636\n",
      "Epoch 45/50\n",
      "32/32 [==============================] - 2s 58ms/step - loss: 0.0057 - accuracy: 1.0000 - val_loss: 0.3743 - val_accuracy: 0.8977\n",
      "Epoch 46/50\n",
      "32/32 [==============================] - 2s 58ms/step - loss: 0.0042 - accuracy: 0.9980 - val_loss: 0.1825 - val_accuracy: 0.9432\n",
      "Epoch 47/50\n",
      "32/32 [==============================] - 2s 58ms/step - loss: 0.0036 - accuracy: 1.0000 - val_loss: 0.2579 - val_accuracy: 0.9318\n",
      "Epoch 48/50\n",
      "32/32 [==============================] - 2s 58ms/step - loss: 0.0012 - accuracy: 1.0000 - val_loss: 0.5114 - val_accuracy: 0.8636\n",
      "Epoch 49/50\n",
      "32/32 [==============================] - 2s 57ms/step - loss: 0.0065 - accuracy: 0.9940 - val_loss: 0.1996 - val_accuracy: 0.9432\n",
      "Epoch 50/50\n",
      "32/32 [==============================] - 2s 60ms/step - loss: 0.0207 - accuracy: 0.9920 - val_loss: 0.2340 - val_accuracy: 0.9148\n"
     ]
    }
   ],
   "source": [
    "# Fit Model\n",
    "history = model_cnn.fit(\n",
    "    train_data_gen,\n",
    "    steps_per_epoch=total_train // batch_size,\n",
    "    epochs=epochs,\n",
    "    validation_data=val_data_gen,\n",
    "    validation_steps=total_val // batch_size\n",
    ")"
   ]
  },
  {
   "cell_type": "code",
   "execution_count": 23,
   "metadata": {
    "colab": {
     "base_uri": "https://localhost:8080/",
     "height": 295
    },
    "colab_type": "code",
    "id": "A-hz93wRsnNi",
    "outputId": "59cf317e-6e15-4cc6-8efe-a1b974c41521"
   },
   "outputs": [
    {
     "data": {
      "image/png": "[encoded data removed]",
      "text/plain": [
       "<Figure size 432x288 with 1 Axes>"
      ]
     },
     "metadata": {
      "needs_background": "light",
      "tags": []
     },
     "output_type": "display_data"
    }
   ],
   "source": [
    "plt.plot(history.history['loss'])\n",
    "plt.plot(history.history['val_loss'])\n",
    "\n",
    "plt.title('Model Loss')\n",
    "plt.ylabel('Loss')\n",
    "plt.xlabel('Epoch')\n",
    "plt.legend(['Train', 'Test'], loc='upper left')\n",
    "plt.show();"
   ]
  },
  {
   "cell_type": "code",
   "execution_count": 24,
   "metadata": {
    "colab": {
     "base_uri": "https://localhost:8080/",
     "height": 295
    },
    "colab_type": "code",
    "id": "Gsmn4kHhsnbE",
    "outputId": "a0f4ee4a-5013-498d-b3f2-22694d736226"
   },
   "outputs": [
    {
     "data": {
      "image/png": "[encoded data removed]",
      "text/plain": [
       "<Figure size 432x288 with 1 Axes>"
      ]
     },
     "metadata": {
      "needs_background": "light",
      "tags": []
     },
     "output_type": "display_data"
    }
   ],
   "source": [
    "plt.plot(history.history['accuracy'])\n",
    "plt.plot(history.history['val_accuracy'])\n",
    "\n",
    "plt.title('Model Accuracy')\n",
    "plt.ylabel('Accuracy')\n",
    "plt.xlabel('Epoch')\n",
    "plt.legend(['Train', 'Test'], loc='upper left')\n",
    "plt.show();"
   ]
  },
  {
   "cell_type": "code",
   "execution_count": null,
   "metadata": {
    "colab": {},
    "colab_type": "code",
    "id": "sbPpfbOK6_be"
   },
   "outputs": [],
   "source": []
  },
  {
   "cell_type": "code",
   "execution_count": null,
   "metadata": {
    "colab": {},
    "colab_type": "code",
    "id": "LY8ekXqi6_fB"
   },
   "outputs": [],
   "source": []
  },
  {
   "cell_type": "markdown",
   "metadata": {
    "colab_type": "text",
    "id": "5EaforwioeMK"
   },
   "source": [
    "# Custom CNN Model with Image Manipulations\n",
    "\n",
    "To simulate an increase in a sample of image, you can apply image manipulation techniques: cropping, rotation, stretching, etc. Luckily Keras has some handy functions for us to apply these techniques to our mountain and forest example. Simply, you should be able to modify our image generator for the problem. Check out these resources to help you get started: \n",
    "\n",
    "1. [Keras `ImageGenerator` Class](https://keras.io/preprocessing/image/#imagedatagenerator-class)\n",
    "2. [Building a powerful image classifier with very little data](https://blog.keras.io/building-powerful-image-classification-models-using-very-little-data.html)\n",
    " "
   ]
  },
  {
   "cell_type": "code",
   "execution_count": 25,
   "metadata": {
    "colab": {},
    "colab_type": "code",
    "id": "CjPMDURgoeML"
   },
   "outputs": [],
   "source": [
    "from keras.preprocessing.image import ImageDataGenerator\n"
   ]
  },
  {
   "cell_type": "code",
   "execution_count": 26,
   "metadata": {
    "colab": {
     "base_uri": "https://localhost:8080/",
     "height": 71
    },
    "colab_type": "code",
    "id": "lP0mCR4ioeMT",
    "outputId": "5826d218-a639-45e2-d331-632ffca89c13"
   },
   "outputs": [
    {
     "data": {
      "application/vnd.google.colaboratory.intrinsic+json": {
       "type": "string"
      },
      "text/plain": [
       "\"\\n\\ndatagen = ImageDataGenerator(\\n        rotation_range=40,\\n        width_shift_range=0.2,\\n        height_shift_range=0.2,\\n        rescale=1./255,\\n        shear_range=0.2,\\n        zoom_range=0.2,\\n        horizontal_flip=True,\\n        fill_mode='nearest')\\n\""
      ]
     },
     "execution_count": 26,
     "metadata": {
      "tags": []
     },
     "output_type": "execute_result"
    }
   ],
   "source": [
    "train_image_generator = ImageDataGenerator(\n",
    "    rescale=1./255,\n",
    "    rotation_range=40,\n",
    "    width_shift_range=0.2,\n",
    "    height_shift_range=0.2,\n",
    "    shear_range=0.2,\n",
    "    zoom_range=0.2,\n",
    "    horizontal_flip=True,\n",
    "    fill_mode='nearest') # Generator for our training data\n",
    "\n",
    "\n",
    "\"\"\"\n",
    "\n",
    "datagen = ImageDataGenerator(\n",
    "        rotation_range=40,\n",
    "        width_shift_range=0.2,\n",
    "        height_shift_range=0.2,\n",
    "        rescale=1./255,\n",
    "        shear_range=0.2,\n",
    "        zoom_range=0.2,\n",
    "        horizontal_flip=True,\n",
    "        fill_mode='nearest')\n",
    "\"\"\""
   ]
  },
  {
   "cell_type": "code",
   "execution_count": 27,
   "metadata": {
    "colab": {},
    "colab_type": "code",
    "id": "-LZJcnpSoeMZ"
   },
   "outputs": [],
   "source": [
    "validation_image_generator = ImageDataGenerator(\n",
    "    rescale=1./255,\n",
    "    rotation_range=40,\n",
    "    width_shift_range=0.2,\n",
    "    height_shift_range=0.2,\n",
    "    shear_range=0.2,\n",
    "    zoom_range=0.2,\n",
    "    horizontal_flip=True,\n",
    "    fill_mode='nearest') # Generator for our validation data"
   ]
  },
  {
   "cell_type": "code",
   "execution_count": 28,
   "metadata": {
    "colab": {
     "base_uri": "https://localhost:8080/",
     "height": 34
    },
    "colab_type": "code",
    "id": "wPU1NqzEoeMm",
    "outputId": "8f93353a-75fd-4a83-d934-2eb516ad402c"
   },
   "outputs": [
    {
     "name": "stdout",
     "output_type": "stream",
     "text": [
      "Found 533 images belonging to 2 classes.\n"
     ]
    }
   ],
   "source": [
    "train_data_gen = train_image_generator.flow_from_directory(batch_size=batch_size,\n",
    "                                                           directory=train_dir,\n",
    "                                                           shuffle=True,\n",
    "                                                           target_size=(IMG_HEIGHT, IMG_WIDTH),\n",
    "                                                           class_mode='binary')\n"
   ]
  },
  {
   "cell_type": "code",
   "execution_count": 29,
   "metadata": {
    "colab": {
     "base_uri": "https://localhost:8080/",
     "height": 34
    },
    "colab_type": "code",
    "id": "TypqIKIioeMr",
    "outputId": "e6b208fd-cac2-498d-cb3c-21e7a9e5c2e5"
   },
   "outputs": [
    {
     "name": "stdout",
     "output_type": "stream",
     "text": [
      "Found 195 images belonging to 2 classes.\n"
     ]
    }
   ],
   "source": [
    "val_data_gen = validation_image_generator.flow_from_directory(batch_size=batch_size,\n",
    "                                                              directory=validation_dir,\n",
    "                                                              target_size=(IMG_HEIGHT, IMG_WIDTH),\n",
    "                                                              class_mode = 'binary'\n",
    "                                                              )"
   ]
  },
  {
   "cell_type": "code",
   "execution_count": 30,
   "metadata": {
    "colab": {
     "base_uri": "https://localhost:8080/",
     "height": 1000
    },
    "colab_type": "code",
    "id": "0RjhgPx4oeMz",
    "outputId": "934b8966-10e8-4d5b-b3c9-fed38878034a"
   },
   "outputs": [
    {
     "name": "stdout",
     "output_type": "stream",
     "text": [
      "Epoch 1/50\n",
      "32/32 [==============================] - 9s 270ms/step - loss: 0.2650 - accuracy: 0.8902 - val_loss: 0.3069 - val_accuracy: 0.8466\n",
      "Epoch 2/50\n",
      "32/32 [==============================] - 8s 263ms/step - loss: 0.2141 - accuracy: 0.9238 - val_loss: 0.2070 - val_accuracy: 0.9205\n",
      "Epoch 3/50\n",
      "32/32 [==============================] - 8s 260ms/step - loss: 0.2108 - accuracy: 0.9162 - val_loss: 0.2512 - val_accuracy: 0.9148\n",
      "Epoch 4/50\n",
      "32/32 [==============================] - 8s 262ms/step - loss: 0.1796 - accuracy: 0.9336 - val_loss: 0.2899 - val_accuracy: 0.8750\n",
      "Epoch 5/50\n",
      "32/32 [==============================] - 8s 256ms/step - loss: 0.1795 - accuracy: 0.9301 - val_loss: 0.2460 - val_accuracy: 0.9034\n",
      "Epoch 6/50\n",
      "32/32 [==============================] - 8s 259ms/step - loss: 0.1578 - accuracy: 0.9481 - val_loss: 0.3257 - val_accuracy: 0.8466\n",
      "Epoch 7/50\n",
      "32/32 [==============================] - 8s 258ms/step - loss: 0.1604 - accuracy: 0.9401 - val_loss: 0.2473 - val_accuracy: 0.9034\n",
      "Epoch 8/50\n",
      "32/32 [==============================] - 8s 253ms/step - loss: 0.1727 - accuracy: 0.9341 - val_loss: 0.4489 - val_accuracy: 0.8068\n",
      "Epoch 9/50\n",
      "32/32 [==============================] - 8s 255ms/step - loss: 0.1574 - accuracy: 0.9361 - val_loss: 0.2424 - val_accuracy: 0.8920\n",
      "Epoch 10/50\n",
      "32/32 [==============================] - 8s 253ms/step - loss: 0.1777 - accuracy: 0.9361 - val_loss: 0.2308 - val_accuracy: 0.9148\n",
      "Epoch 11/50\n",
      "32/32 [==============================] - 8s 257ms/step - loss: 0.1901 - accuracy: 0.9162 - val_loss: 0.3093 - val_accuracy: 0.8523\n",
      "Epoch 12/50\n",
      "32/32 [==============================] - 8s 264ms/step - loss: 0.1457 - accuracy: 0.9461 - val_loss: 0.3080 - val_accuracy: 0.8807\n",
      "Epoch 13/50\n",
      "32/32 [==============================] - 8s 260ms/step - loss: 0.1661 - accuracy: 0.9341 - val_loss: 0.2441 - val_accuracy: 0.8864\n",
      "Epoch 14/50\n",
      "32/32 [==============================] - 8s 263ms/step - loss: 0.1672 - accuracy: 0.9301 - val_loss: 0.2385 - val_accuracy: 0.8750\n",
      "Epoch 15/50\n",
      "32/32 [==============================] - 8s 262ms/step - loss: 0.1948 - accuracy: 0.9142 - val_loss: 0.2667 - val_accuracy: 0.8920\n",
      "Epoch 16/50\n",
      "32/32 [==============================] - 8s 264ms/step - loss: 0.1787 - accuracy: 0.9301 - val_loss: 0.2008 - val_accuracy: 0.9034\n",
      "Epoch 17/50\n",
      "32/32 [==============================] - 8s 260ms/step - loss: 0.1254 - accuracy: 0.9561 - val_loss: 0.2435 - val_accuracy: 0.9034\n",
      "Epoch 18/50\n",
      "32/32 [==============================] - 8s 263ms/step - loss: 0.1282 - accuracy: 0.9521 - val_loss: 0.2786 - val_accuracy: 0.8977\n",
      "Epoch 19/50\n",
      "32/32 [==============================] - 8s 260ms/step - loss: 0.2010 - accuracy: 0.9082 - val_loss: 0.2722 - val_accuracy: 0.8807\n",
      "Epoch 20/50\n",
      "32/32 [==============================] - 8s 259ms/step - loss: 0.1893 - accuracy: 0.9162 - val_loss: 0.2783 - val_accuracy: 0.8580\n",
      "Epoch 21/50\n",
      "32/32 [==============================] - 8s 260ms/step - loss: 0.1503 - accuracy: 0.9441 - val_loss: 0.2441 - val_accuracy: 0.8977\n",
      "Epoch 22/50\n",
      "32/32 [==============================] - 8s 261ms/step - loss: 0.1015 - accuracy: 0.9521 - val_loss: 0.3615 - val_accuracy: 0.8750\n",
      "Epoch 23/50\n",
      "32/32 [==============================] - 8s 263ms/step - loss: 0.1529 - accuracy: 0.9661 - val_loss: 0.1595 - val_accuracy: 0.9318\n",
      "Epoch 24/50\n",
      "32/32 [==============================] - 8s 263ms/step - loss: 0.1289 - accuracy: 0.9501 - val_loss: 0.2202 - val_accuracy: 0.9034\n",
      "Epoch 25/50\n",
      "32/32 [==============================] - 8s 265ms/step - loss: 0.1786 - accuracy: 0.9434 - val_loss: 0.3771 - val_accuracy: 0.8125\n",
      "Epoch 26/50\n",
      "32/32 [==============================] - 8s 261ms/step - loss: 0.1684 - accuracy: 0.9261 - val_loss: 0.2130 - val_accuracy: 0.9148\n",
      "Epoch 27/50\n",
      "32/32 [==============================] - 8s 262ms/step - loss: 0.1423 - accuracy: 0.9492 - val_loss: 0.2783 - val_accuracy: 0.9034\n",
      "Epoch 28/50\n",
      "32/32 [==============================] - 8s 262ms/step - loss: 0.1042 - accuracy: 0.9501 - val_loss: 0.2597 - val_accuracy: 0.8807\n",
      "Epoch 29/50\n",
      "32/32 [==============================] - 8s 262ms/step - loss: 0.1019 - accuracy: 0.9561 - val_loss: 0.3201 - val_accuracy: 0.8750\n",
      "Epoch 30/50\n",
      "32/32 [==============================] - 8s 262ms/step - loss: 0.1193 - accuracy: 0.9441 - val_loss: 0.1729 - val_accuracy: 0.9261\n",
      "Epoch 31/50\n",
      "32/32 [==============================] - 8s 265ms/step - loss: 0.1365 - accuracy: 0.9441 - val_loss: 0.1658 - val_accuracy: 0.9375\n",
      "Epoch 32/50\n",
      "32/32 [==============================] - 8s 261ms/step - loss: 0.0834 - accuracy: 0.9661 - val_loss: 0.2365 - val_accuracy: 0.9148\n",
      "Epoch 33/50\n",
      "32/32 [==============================] - 8s 258ms/step - loss: 0.1634 - accuracy: 0.9261 - val_loss: 0.2713 - val_accuracy: 0.9148\n",
      "Epoch 34/50\n",
      "32/32 [==============================] - 8s 257ms/step - loss: 0.1321 - accuracy: 0.9521 - val_loss: 0.3116 - val_accuracy: 0.9091\n",
      "Epoch 35/50\n",
      "32/32 [==============================] - 9s 266ms/step - loss: 0.1148 - accuracy: 0.9441 - val_loss: 0.2270 - val_accuracy: 0.8920\n",
      "Epoch 36/50\n",
      "32/32 [==============================] - 8s 260ms/step - loss: 0.1264 - accuracy: 0.9541 - val_loss: 0.2188 - val_accuracy: 0.9091\n",
      "Epoch 37/50\n",
      "32/32 [==============================] - 9s 266ms/step - loss: 0.1110 - accuracy: 0.9541 - val_loss: 0.3451 - val_accuracy: 0.8920\n",
      "Epoch 38/50\n",
      "32/32 [==============================] - 8s 259ms/step - loss: 0.1288 - accuracy: 0.9501 - val_loss: 0.2981 - val_accuracy: 0.8693\n",
      "Epoch 39/50\n",
      "32/32 [==============================] - 8s 254ms/step - loss: 0.1495 - accuracy: 0.9401 - val_loss: 0.2262 - val_accuracy: 0.8977\n",
      "Epoch 40/50\n",
      "32/32 [==============================] - 8s 260ms/step - loss: 0.1104 - accuracy: 0.9501 - val_loss: 0.1873 - val_accuracy: 0.9148\n",
      "Epoch 41/50\n",
      "32/32 [==============================] - 8s 254ms/step - loss: 0.1038 - accuracy: 0.9641 - val_loss: 0.2371 - val_accuracy: 0.9205\n",
      "Epoch 42/50\n",
      "32/32 [==============================] - 8s 256ms/step - loss: 0.1512 - accuracy: 0.9441 - val_loss: 0.1966 - val_accuracy: 0.9205\n",
      "Epoch 43/50\n",
      "32/32 [==============================] - 8s 256ms/step - loss: 0.0928 - accuracy: 0.9561 - val_loss: 0.3739 - val_accuracy: 0.8920\n",
      "Epoch 44/50\n",
      "32/32 [==============================] - 8s 258ms/step - loss: 0.1180 - accuracy: 0.9501 - val_loss: 0.3159 - val_accuracy: 0.8636\n",
      "Epoch 45/50\n",
      "32/32 [==============================] - 8s 257ms/step - loss: 0.1134 - accuracy: 0.9561 - val_loss: 0.4795 - val_accuracy: 0.8011\n",
      "Epoch 46/50\n",
      "32/32 [==============================] - 8s 255ms/step - loss: 0.1407 - accuracy: 0.9381 - val_loss: 0.4700 - val_accuracy: 0.8068\n",
      "Epoch 47/50\n",
      "32/32 [==============================] - 8s 255ms/step - loss: 0.1318 - accuracy: 0.9481 - val_loss: 0.1971 - val_accuracy: 0.9091\n",
      "Epoch 48/50\n",
      "32/32 [==============================] - 8s 258ms/step - loss: 0.0981 - accuracy: 0.9641 - val_loss: 0.2025 - val_accuracy: 0.9205\n",
      "Epoch 49/50\n",
      "32/32 [==============================] - 8s 255ms/step - loss: 0.1164 - accuracy: 0.9581 - val_loss: 0.3500 - val_accuracy: 0.8807\n",
      "Epoch 50/50\n",
      "32/32 [==============================] - 8s 255ms/step - loss: 0.1151 - accuracy: 0.9641 - val_loss: 0.2318 - val_accuracy: 0.9148\n"
     ]
    }
   ],
   "source": [
    "history = model_cnn.fit(\n",
    "    train_data_gen,\n",
    "    steps_per_epoch=total_train // batch_size,\n",
    "    epochs=epochs,\n",
    "    validation_data=val_data_gen,\n",
    "    validation_steps=total_val // batch_size\n",
    ")"
   ]
  },
  {
   "cell_type": "code",
   "execution_count": 31,
   "metadata": {
    "colab": {
     "base_uri": "https://localhost:8080/",
     "height": 295
    },
    "colab_type": "code",
    "id": "0ffrflcmw10f",
    "outputId": "2437fe8b-b251-4d1e-d894-a3705f592c12"
   },
   "outputs": [
    {
     "data": {
      "image/png": "[encoded data removed]",
      "text/plain": [
       "<Figure size 432x288 with 1 Axes>"
      ]
     },
     "metadata": {
      "needs_background": "light",
      "tags": []
     },
     "output_type": "display_data"
    }
   ],
   "source": [
    "plt.plot(history.history['loss'])\n",
    "plt.plot(history.history['val_loss'])\n",
    "\n",
    "plt.title('Model Loss')\n",
    "plt.ylabel('Loss')\n",
    "plt.xlabel('Epoch')\n",
    "plt.legend(['Train', 'Test'], loc='upper left')\n",
    "plt.show();"
   ]
  },
  {
   "cell_type": "code",
   "execution_count": 32,
   "metadata": {
    "colab": {
     "base_uri": "https://localhost:8080/",
     "height": 295
    },
    "colab_type": "code",
    "id": "qOzo7BA1w14Q",
    "outputId": "18c7acb0-4861-42d3-b7a4-ee33a310abaa"
   },
   "outputs": [
    {
     "data": {
      "image/png": "[encoded data removed]",
      "text/plain": [
       "<Figure size 432x288 with 1 Axes>"
      ]
     },
     "metadata": {
      "needs_background": "light",
      "tags": []
     },
     "output_type": "display_data"
    }
   ],
   "source": [
    "plt.plot(history.history['accuracy'])\n",
    "plt.plot(history.history['val_accuracy'])\n",
    "\n",
    "plt.title('Model Accuracy')\n",
    "plt.ylabel('Accuracy')\n",
    "plt.xlabel('Epoch')\n",
    "plt.legend(['Train', 'Test'], loc='upper left')\n",
    "plt.show();"
   ]
  },
  {
   "cell_type": "markdown",
   "metadata": {
    "colab_type": "text",
    "id": "uT3UV3gap9H6"
   },
   "source": [
    "# Resources and Stretch Goals\n",
    "\n",
    "Stretch goals\n",
    "- Enhance your code to use classes/functions and accept terms to search and classes to look for in recognizing the downloaded images (e.g. download images of parties, recognize all that contain balloons)\n",
    "- Check out [other available pretrained networks](https://tfhub.dev), try some and compare\n",
    "- Image recognition/classification is somewhat solved, but *relationships* between entities and describing an image is not - check out some of the extended resources (e.g. [Visual Genome](https://visualgenome.org/)) on the topic\n",
    "- Transfer learning - using images you source yourself, [retrain a classifier](https://www.tensorflow.org/hub/tutorials/image_retraining) with a new category\n",
    "- (Not CNN related) Use [piexif](https://pypi.org/project/piexif/) to check out the metadata of images passed in to your system - see if they're from a national park! (Note - many images lack GPS metadata, so this won't work in most cases, but still cool)\n",
    "\n",
    "Resources\n",
    "- [Deep Residual Learning for Image Recognition](https://arxiv.org/abs/1512.03385) - influential paper (introduced ResNet)\n",
    "- [YOLO: Real-Time Object Detection](https://pjreddie.com/darknet/yolo/) - an influential convolution based object detection system, focused on inference speed (for applications to e.g. self driving vehicles)\n",
    "- [R-CNN, Fast R-CNN, Faster R-CNN, YOLO](https://towardsdatascience.com/r-cnn-fast-r-cnn-faster-r-cnn-yolo-object-detection-algorithms-36d53571365e) - comparison of object detection systems\n",
    "- [Common Objects in Context](http://cocodataset.org/) - a large-scale object detection, segmentation, and captioning dataset\n",
    "- [Visual Genome](https://visualgenome.org/) - a dataset, a knowledge base, an ongoing effort to connect structured image concepts to language"
   ]
  }
 ],
 "metadata": {
  "accelerator": "GPU",
  "colab": {
   "name": "Jisha_Obukwelu_DSPT5_432_Convolution_Neural_Networks_Assignment.ipynb",
   "provenance": []
  },
  "kernelspec": {
   "display_name": "Python 3",
   "language": "python",
   "name": "python3"
  },
  "language_info": {
   "codemirror_mode": {
    "name": "ipython",
    "version": 3
   },
   "file_extension": ".py",
   "mimetype": "text/x-python",
   "name": "python",
   "nbconvert_exporter": "python",
   "pygments_lexer": "ipython3",
   "version": "3.7.6"
  },
  "nteract": {
   "version": "0.23.1"
  }
 },
 "nbformat": 4,
 "nbformat_minor": 4
}
